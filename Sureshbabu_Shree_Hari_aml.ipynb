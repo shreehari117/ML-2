{
  "nbformat": 4,
  "nbformat_minor": 0,
  "metadata": {
    "colab": {
      "name": "Sureshbabu_Shree Hari_aml.ipynb",
      "provenance": [],
      "collapsed_sections": [],
      "include_colab_link": true
    },
    "kernelspec": {
      "name": "python2",
      "display_name": "Python 2"
    },
    "accelerator": "GPU"
  },
  "cells": [
    {
      "cell_type": "markdown",
      "metadata": {
        "id": "view-in-github",
        "colab_type": "text"
      },
      "source": [
        "<a href=\"https://colab.research.google.com/github/shreehari117/ML-2/blob/master/Sureshbabu_Shree_Hari_aml.ipynb\" target=\"_parent\"><img src=\"https://colab.research.google.com/assets/colab-badge.svg\" alt=\"Open In Colab\"/></a>"
      ]
    },
    {
      "cell_type": "markdown",
      "metadata": {
        "colab_type": "text",
        "id": "NiZYmbLsCx8C"
      },
      "source": [
        "#Student Name: Shree Hari Sureshbabu\n",
        "#ECE 595 Machine Learning II\n",
        "#Project 4: Adversarial Machine Learning - Student Code"
      ]
    },
    {
      "cell_type": "code",
      "metadata": {
        "id": "ZH3b6I2oq_6i",
        "colab_type": "code",
        "colab": {
          "base_uri": "https://localhost:8080/",
          "height": 544
        },
        "outputId": "aad2af91-b596-4ed0-f3e7-d055dbc3df40"
      },
      "source": [
        "#Install Cleverhans (version Cleverhans 2.1.0 is most compatable with Python 2.x)\n",
        "!pip install cleverhans==2.1.0"
      ],
      "execution_count": 1,
      "outputs": [
        {
          "output_type": "stream",
          "text": [
            "Collecting cleverhans==2.1.0\n",
            "\u001b[?25l  Downloading https://files.pythonhosted.org/packages/e8/ea/c057263636b14c28923b42ed8ef52c0ba24d38e05fc3720f62df80a2f735/cleverhans-2.1.0.tar.gz (64kB)\n",
            "\r\u001b[K     |█████                           | 10kB 18.5MB/s eta 0:00:01\r\u001b[K     |██████████▏                     | 20kB 1.8MB/s eta 0:00:01\r\u001b[K     |███████████████▏                | 30kB 2.6MB/s eta 0:00:01\r\u001b[K     |████████████████████▎           | 40kB 1.7MB/s eta 0:00:01\r\u001b[K     |█████████████████████████▎      | 51kB 2.1MB/s eta 0:00:01\r\u001b[K     |██████████████████████████████▍ | 61kB 2.5MB/s eta 0:00:01\r\u001b[K     |████████████████████████████████| 71kB 2.3MB/s \n",
            "\u001b[?25hRequirement already satisfied: nose in /usr/local/lib/python2.7/dist-packages (from cleverhans==2.1.0) (1.3.7)\n",
            "Collecting pycodestyle\n",
            "\u001b[?25l  Downloading https://files.pythonhosted.org/packages/0e/0c/04a353e104d2f324f8ee5f4b32012618c1c86dd79e52a433b64fceed511b/pycodestyle-2.5.0-py2.py3-none-any.whl (51kB)\n",
            "\u001b[K     |████████████████████████████████| 51kB 7.8MB/s \n",
            "\u001b[?25hRequirement already satisfied: scipy in /usr/local/lib/python2.7/dist-packages (from cleverhans==2.1.0) (1.2.2)\n",
            "Requirement already satisfied: matplotlib in /usr/local/lib/python2.7/dist-packages (from cleverhans==2.1.0) (2.2.4)\n",
            "Collecting mnist~=0.2\n",
            "  Downloading https://files.pythonhosted.org/packages/c6/c4/5db3bfe009f8d71f1d532bbadbd0ec203764bba3a469e4703a889db8e5e0/mnist-0.2.2-py2.py3-none-any.whl\n",
            "Requirement already satisfied: numpy in /usr/local/lib/python2.7/dist-packages (from cleverhans==2.1.0) (1.16.4)\n",
            "Requirement already satisfied: cycler>=0.10 in /usr/local/lib/python2.7/dist-packages (from matplotlib->cleverhans==2.1.0) (0.10.0)\n",
            "Requirement already satisfied: backports.functools-lru-cache in /usr/local/lib/python2.7/dist-packages (from matplotlib->cleverhans==2.1.0) (1.5)\n",
            "Requirement already satisfied: subprocess32 in /usr/local/lib/python2.7/dist-packages (from matplotlib->cleverhans==2.1.0) (3.5.4)\n",
            "Requirement already satisfied: kiwisolver>=1.0.1 in /usr/local/lib/python2.7/dist-packages (from matplotlib->cleverhans==2.1.0) (1.1.0)\n",
            "Requirement already satisfied: pytz in /usr/local/lib/python2.7/dist-packages (from matplotlib->cleverhans==2.1.0) (2018.9)\n",
            "Requirement already satisfied: six>=1.10 in /usr/local/lib/python2.7/dist-packages (from matplotlib->cleverhans==2.1.0) (1.12.0)\n",
            "Requirement already satisfied: python-dateutil>=2.1 in /usr/local/lib/python2.7/dist-packages (from matplotlib->cleverhans==2.1.0) (2.5.3)\n",
            "Requirement already satisfied: pyparsing!=2.0.4,!=2.1.2,!=2.1.6,>=2.0.1 in /usr/local/lib/python2.7/dist-packages (from matplotlib->cleverhans==2.1.0) (2.4.0)\n",
            "Requirement already satisfied: mock; python_version == \"2.7\" in /usr/local/lib/python2.7/dist-packages (from mnist~=0.2->cleverhans==2.1.0) (2.0.0)\n",
            "Requirement already satisfied: setuptools in /usr/local/lib/python2.7/dist-packages (from kiwisolver>=1.0.1->matplotlib->cleverhans==2.1.0) (41.4.0)\n",
            "Requirement already satisfied: funcsigs>=1; python_version < \"3.3\" in /usr/local/lib/python2.7/dist-packages (from mock; python_version == \"2.7\"->mnist~=0.2->cleverhans==2.1.0) (1.0.2)\n",
            "Requirement already satisfied: pbr>=0.11 in /usr/local/lib/python2.7/dist-packages (from mock; python_version == \"2.7\"->mnist~=0.2->cleverhans==2.1.0) (5.4.0)\n",
            "Building wheels for collected packages: cleverhans\n",
            "  Building wheel for cleverhans (setup.py) ... \u001b[?25l\u001b[?25hdone\n",
            "  Created wheel for cleverhans: filename=cleverhans-2.1.0-cp27-none-any.whl size=74866 sha256=49dee789c82e980082319123944ffc0dcf3b9c2aaf566e3dbac8873bc593af37\n",
            "  Stored in directory: /root/.cache/pip/wheels/5e/d5/ae/5bf57b9265bffd5783c4462a9a7c1c5fd0ebe51db83ff5f586\n",
            "Successfully built cleverhans\n",
            "Installing collected packages: pycodestyle, mnist, cleverhans\n",
            "Successfully installed cleverhans-2.1.0 mnist-0.2.2 pycodestyle-2.5.0\n"
          ],
          "name": "stdout"
        }
      ]
    },
    {
      "cell_type": "code",
      "metadata": {
        "id": "mVKiKyxvrDio",
        "colab_type": "code",
        "colab": {
          "base_uri": "https://localhost:8080/",
          "height": 80
        },
        "outputId": "24ac2195-a3eb-430a-9ba9-2b45d0c84798"
      },
      "source": [
        "#Import necessary packages\n",
        "from keras.datasets import mnist\n",
        "from keras import Sequential\n",
        "from keras.layers import Dense, BatchNormalization\n",
        "from keras import backend\n",
        "import keras\n",
        "import tensorflow as tf\n",
        "import numpy as np\n",
        "import matplotlib.pyplot as plt\n",
        "from sklearn.decomposition import PCA\n",
        "from cleverhans.utils_keras import KerasModelWrapper\n",
        "from cleverhans.attacks import FastGradientMethod, MadryEtAl, DeepFool, CarliniWagnerL2"
      ],
      "execution_count": 2,
      "outputs": [
        {
          "output_type": "stream",
          "text": [
            "Using TensorFlow backend.\n"
          ],
          "name": "stderr"
        },
        {
          "output_type": "display_data",
          "data": {
            "text/plain": [
              "<IPython.core.display.HTML object>"
            ],
            "text/html": [
              "<p style=\"color: red;\">\n",
              "The default version of TensorFlow in Colab will soon switch to TensorFlow 2.x.<br>\n",
              "We recommend you <a href=\"https://www.tensorflow.org/guide/migrate\" target=\"_blank\">upgrade</a> now \n",
              "or ensure your notebook will continue to use TensorFlow 1.x via the <code>%tensorflow_version 1.x</code> magic:\n",
              "<a href=\"https://colab.research.google.com/notebooks/tensorflow_version.ipynb\" target=\"_blank\">more info</a>.</p>\n"
            ]
          },
          "metadata": {
            "tags": []
          }
        }
      ]
    },
    {
      "cell_type": "markdown",
      "metadata": {
        "id": "AR7lUPK3rL3d",
        "colab_type": "text"
      },
      "source": [
        "#Part 1: Training a target classifier"
      ]
    },
    {
      "cell_type": "code",
      "metadata": {
        "id": "dRvltpU9rMZp",
        "colab_type": "code",
        "colab": {
          "base_uri": "https://localhost:8080/",
          "height": 1000
        },
        "outputId": "a572c27f-52c6-4ea9-841e-47e9582f3681"
      },
      "source": [
        "# Load data MNIST data and normalize to [0, 1]\n",
        "(data_train, labels_train), (data_test, labels_test) = mnist.load_data()\n",
        "data_train = data_train/255.0\n",
        "data_test = data_test/255.0\n",
        "\n",
        "#Reshape training and testing data into 784-dimensional vectors \n",
        "data_train = data_train.reshape(60000,784)\n",
        "data_test = data_test.reshape(10000,784)\n",
        "\n",
        "#Convert integer labels for training and testing data into one-hot vectors \n",
        "labels_train = keras.utils.np_utils.to_categorical(labels_train, num_classes=10)\n",
        "labels_test = keras.utils.np_utils.to_categorical(labels_test, num_classes=10)\n",
        "\n",
        "#Create classifier architecture, compile it, and train it\n",
        "def classifier():\n",
        "  model_classifier = Sequential()\n",
        "  model_classifier.add(Dense(100, input_dim = 784, activation='relu'))\n",
        "  model_classifier.add(BatchNormalization())\n",
        "  model_classifier.add(Dense(100, activation='relu'))\n",
        "  model_classifier.add(BatchNormalization())\n",
        "  model_classifier.add(Dense(10, activation = 'softmax'))\n",
        "  return model_classifier\n",
        "\n",
        "model_classifier = classifier()\n",
        "model_classifier.compile(loss='categorical_crossentropy', optimizer='adam', metrics=['accuracy'])\n",
        "model_classifier_data = model_classifier.fit(data_train, labels_train, validation_data=(data_test, labels_test), epochs=50, batch_size=256, shuffle=True)\n",
        "score = model_classifier.evaluate(data_test, labels_test)"
      ],
      "execution_count": 7,
      "outputs": [
        {
          "output_type": "stream",
          "text": [
            "W1106 14:46:38.737947 140337710856064 module_wrapper.py:139] From /usr/local/lib/python2.7/dist-packages/keras/optimizers.py:790: The name tf.train.Optimizer is deprecated. Please use tf.compat.v1.train.Optimizer instead.\n",
            "\n",
            "W1106 14:46:38.762284 140337710856064 module_wrapper.py:139] From /usr/local/lib/python2.7/dist-packages/keras/backend/tensorflow_backend.py:3295: The name tf.log is deprecated. Please use tf.math.log instead.\n",
            "\n",
            "W1106 14:46:38.891858 140337710856064 deprecation.py:323] From /usr/local/lib/python2.7/dist-packages/tensorflow_core/python/ops/math_grad.py:1424: where (from tensorflow.python.ops.array_ops) is deprecated and will be removed in a future version.\n",
            "Instructions for updating:\n",
            "Use tf.where in 2.0, which has the same broadcast rule as np.where\n",
            "W1106 14:46:39.168756 140337710856064 module_wrapper.py:139] From /usr/local/lib/python2.7/dist-packages/keras/backend/tensorflow_backend.py:986: The name tf.assign_add is deprecated. Please use tf.compat.v1.assign_add instead.\n",
            "\n",
            "W1106 14:46:39.295433 140337710856064 module_wrapper.py:139] From /usr/local/lib/python2.7/dist-packages/keras/backend/tensorflow_backend.py:973: The name tf.assign is deprecated. Please use tf.compat.v1.assign instead.\n",
            "\n",
            "W1106 14:46:39.413659 140337710856064 module_wrapper.py:139] From /usr/local/lib/python2.7/dist-packages/keras/backend/tensorflow_backend.py:2741: The name tf.Session is deprecated. Please use tf.compat.v1.Session instead.\n",
            "\n",
            "W1106 14:46:39.420945 140337710856064 module_wrapper.py:139] From /usr/local/lib/python2.7/dist-packages/keras/backend/tensorflow_backend.py:174: The name tf.get_default_session is deprecated. Please use tf.compat.v1.get_default_session instead.\n",
            "\n",
            "W1106 14:46:39.421960 140337710856064 module_wrapper.py:139] From /usr/local/lib/python2.7/dist-packages/keras/backend/tensorflow_backend.py:181: The name tf.ConfigProto is deprecated. Please use tf.compat.v1.ConfigProto instead.\n",
            "\n"
          ],
          "name": "stderr"
        },
        {
          "output_type": "stream",
          "text": [
            "Train on 60000 samples, validate on 10000 samples\n",
            "Epoch 1/50\n"
          ],
          "name": "stdout"
        },
        {
          "output_type": "stream",
          "text": [
            "W1106 14:46:40.656203 140337710856064 module_wrapper.py:139] From /usr/local/lib/python2.7/dist-packages/keras/backend/tensorflow_backend.py:190: The name tf.global_variables is deprecated. Please use tf.compat.v1.global_variables instead.\n",
            "\n",
            "W1106 14:46:40.657736 140337710856064 module_wrapper.py:139] From /usr/local/lib/python2.7/dist-packages/keras/backend/tensorflow_backend.py:199: The name tf.is_variable_initialized is deprecated. Please use tf.compat.v1.is_variable_initialized instead.\n",
            "\n",
            "W1106 14:46:40.866182 140337710856064 module_wrapper.py:139] From /usr/local/lib/python2.7/dist-packages/keras/backend/tensorflow_backend.py:206: The name tf.variables_initializer is deprecated. Please use tf.compat.v1.variables_initializer instead.\n",
            "\n"
          ],
          "name": "stderr"
        },
        {
          "output_type": "stream",
          "text": [
            "60000/60000 [==============================] - 8s 125us/step - loss: 0.3038 - acc: 0.9109 - val_loss: 0.1410 - val_acc: 0.9593\n",
            "Epoch 2/50\n",
            "60000/60000 [==============================] - 2s 38us/step - loss: 0.1123 - acc: 0.9665 - val_loss: 0.1113 - val_acc: 0.9646\n",
            "Epoch 3/50\n",
            "60000/60000 [==============================] - 2s 38us/step - loss: 0.0766 - acc: 0.9772 - val_loss: 0.0920 - val_acc: 0.9719\n",
            "Epoch 4/50\n",
            "60000/60000 [==============================] - 2s 38us/step - loss: 0.0558 - acc: 0.9836 - val_loss: 0.0827 - val_acc: 0.9746\n",
            "Epoch 5/50\n",
            "60000/60000 [==============================] - 2s 37us/step - loss: 0.0414 - acc: 0.9877 - val_loss: 0.0991 - val_acc: 0.9704\n",
            "Epoch 6/50\n",
            "60000/60000 [==============================] - 2s 38us/step - loss: 0.0338 - acc: 0.9901 - val_loss: 0.0884 - val_acc: 0.9732\n",
            "Epoch 7/50\n",
            "60000/60000 [==============================] - 2s 38us/step - loss: 0.0262 - acc: 0.9926 - val_loss: 0.1030 - val_acc: 0.9699\n",
            "Epoch 8/50\n",
            "60000/60000 [==============================] - 2s 37us/step - loss: 0.0207 - acc: 0.9942 - val_loss: 0.0913 - val_acc: 0.9733\n",
            "Epoch 9/50\n",
            "60000/60000 [==============================] - 2s 39us/step - loss: 0.0167 - acc: 0.9952 - val_loss: 0.0888 - val_acc: 0.9748\n",
            "Epoch 10/50\n",
            "60000/60000 [==============================] - 2s 39us/step - loss: 0.0145 - acc: 0.9960 - val_loss: 0.0848 - val_acc: 0.9756\n",
            "Epoch 11/50\n",
            "60000/60000 [==============================] - 2s 38us/step - loss: 0.0117 - acc: 0.9970 - val_loss: 0.0859 - val_acc: 0.9760\n",
            "Epoch 12/50\n",
            "60000/60000 [==============================] - 2s 38us/step - loss: 0.0111 - acc: 0.9968 - val_loss: 0.0912 - val_acc: 0.9764\n",
            "Epoch 13/50\n",
            "60000/60000 [==============================] - 2s 39us/step - loss: 0.0090 - acc: 0.9977 - val_loss: 0.0872 - val_acc: 0.9773\n",
            "Epoch 14/50\n",
            "60000/60000 [==============================] - 2s 37us/step - loss: 0.0092 - acc: 0.9975 - val_loss: 0.1154 - val_acc: 0.9731\n",
            "Epoch 15/50\n",
            "60000/60000 [==============================] - 2s 39us/step - loss: 0.0085 - acc: 0.9974 - val_loss: 0.1145 - val_acc: 0.9719\n",
            "Epoch 16/50\n",
            "60000/60000 [==============================] - 2s 39us/step - loss: 0.0084 - acc: 0.9976 - val_loss: 0.0972 - val_acc: 0.9758\n",
            "Epoch 17/50\n",
            "60000/60000 [==============================] - 2s 38us/step - loss: 0.0075 - acc: 0.9980 - val_loss: 0.1118 - val_acc: 0.9722\n",
            "Epoch 18/50\n",
            "60000/60000 [==============================] - 2s 37us/step - loss: 0.0092 - acc: 0.9970 - val_loss: 0.1012 - val_acc: 0.9757\n",
            "Epoch 19/50\n",
            "60000/60000 [==============================] - 2s 40us/step - loss: 0.0096 - acc: 0.9970 - val_loss: 0.0966 - val_acc: 0.9780\n",
            "Epoch 20/50\n",
            "60000/60000 [==============================] - 2s 38us/step - loss: 0.0067 - acc: 0.9980 - val_loss: 0.1061 - val_acc: 0.9750\n",
            "Epoch 21/50\n",
            "60000/60000 [==============================] - 2s 38us/step - loss: 0.0064 - acc: 0.9981 - val_loss: 0.1054 - val_acc: 0.9749\n",
            "Epoch 22/50\n",
            "60000/60000 [==============================] - 2s 38us/step - loss: 0.0061 - acc: 0.9982 - val_loss: 0.0948 - val_acc: 0.9774\n",
            "Epoch 23/50\n",
            "60000/60000 [==============================] - 2s 37us/step - loss: 0.0048 - acc: 0.9987 - val_loss: 0.1034 - val_acc: 0.9770\n",
            "Epoch 24/50\n",
            "60000/60000 [==============================] - 2s 38us/step - loss: 0.0048 - acc: 0.9986 - val_loss: 0.0997 - val_acc: 0.9776\n",
            "Epoch 25/50\n",
            "60000/60000 [==============================] - 2s 38us/step - loss: 0.0038 - acc: 0.9991 - val_loss: 0.0906 - val_acc: 0.9794\n",
            "Epoch 26/50\n",
            "60000/60000 [==============================] - 2s 38us/step - loss: 0.0041 - acc: 0.9990 - val_loss: 0.1029 - val_acc: 0.9776\n",
            "Epoch 27/50\n",
            "60000/60000 [==============================] - 2s 37us/step - loss: 0.0048 - acc: 0.9986 - val_loss: 0.1040 - val_acc: 0.9781\n",
            "Epoch 28/50\n",
            "60000/60000 [==============================] - 2s 38us/step - loss: 0.0053 - acc: 0.9985 - val_loss: 0.1022 - val_acc: 0.9770\n",
            "Epoch 29/50\n",
            "60000/60000 [==============================] - 2s 38us/step - loss: 0.0074 - acc: 0.9974 - val_loss: 0.1130 - val_acc: 0.9769\n",
            "Epoch 30/50\n",
            "60000/60000 [==============================] - 2s 39us/step - loss: 0.0064 - acc: 0.9978 - val_loss: 0.1289 - val_acc: 0.9743\n",
            "Epoch 31/50\n",
            "60000/60000 [==============================] - 2s 39us/step - loss: 0.0059 - acc: 0.9981 - val_loss: 0.1198 - val_acc: 0.9755\n",
            "Epoch 32/50\n",
            "60000/60000 [==============================] - 2s 38us/step - loss: 0.0051 - acc: 0.9982 - val_loss: 0.1040 - val_acc: 0.9775\n",
            "Epoch 33/50\n",
            "60000/60000 [==============================] - 2s 39us/step - loss: 0.0027 - acc: 0.9992 - val_loss: 0.1081 - val_acc: 0.9789\n",
            "Epoch 34/50\n",
            "60000/60000 [==============================] - 2s 39us/step - loss: 0.0015 - acc: 0.9996 - val_loss: 0.1042 - val_acc: 0.9798\n",
            "Epoch 35/50\n",
            "60000/60000 [==============================] - 2s 41us/step - loss: 0.0012 - acc: 0.9998 - val_loss: 0.1100 - val_acc: 0.9781\n",
            "Epoch 36/50\n",
            "60000/60000 [==============================] - 2s 40us/step - loss: 0.0039 - acc: 0.9990 - val_loss: 0.1122 - val_acc: 0.9769\n",
            "Epoch 37/50\n",
            "60000/60000 [==============================] - 2s 40us/step - loss: 0.0054 - acc: 0.9985 - val_loss: 0.1249 - val_acc: 0.9753\n",
            "Epoch 38/50\n",
            "60000/60000 [==============================] - 2s 39us/step - loss: 0.0095 - acc: 0.9970 - val_loss: 0.1214 - val_acc: 0.9745\n",
            "Epoch 39/50\n",
            "60000/60000 [==============================] - 2s 38us/step - loss: 0.0060 - acc: 0.9980 - val_loss: 0.1010 - val_acc: 0.9776\n",
            "Epoch 40/50\n",
            "60000/60000 [==============================] - 2s 39us/step - loss: 0.0032 - acc: 0.9989 - val_loss: 0.0991 - val_acc: 0.9796\n",
            "Epoch 41/50\n",
            "60000/60000 [==============================] - 2s 38us/step - loss: 0.0022 - acc: 0.9995 - val_loss: 0.1038 - val_acc: 0.9804\n",
            "Epoch 42/50\n",
            "60000/60000 [==============================] - 2s 38us/step - loss: 0.0018 - acc: 0.9995 - val_loss: 0.1098 - val_acc: 0.9801\n",
            "Epoch 43/50\n",
            "60000/60000 [==============================] - 2s 38us/step - loss: 9.4709e-04 - acc: 0.9998 - val_loss: 0.1128 - val_acc: 0.9798\n",
            "Epoch 44/50\n",
            "60000/60000 [==============================] - 2s 39us/step - loss: 5.9380e-04 - acc: 0.9999 - val_loss: 0.1038 - val_acc: 0.9800\n",
            "Epoch 45/50\n",
            "60000/60000 [==============================] - 2s 38us/step - loss: 0.0022 - acc: 0.9995 - val_loss: 0.1281 - val_acc: 0.9782\n",
            "Epoch 46/50\n",
            "60000/60000 [==============================] - 2s 39us/step - loss: 0.0042 - acc: 0.9986 - val_loss: 0.1327 - val_acc: 0.9727\n",
            "Epoch 47/50\n",
            "60000/60000 [==============================] - 2s 40us/step - loss: 0.0096 - acc: 0.9966 - val_loss: 0.1373 - val_acc: 0.9719\n",
            "Epoch 48/50\n",
            "60000/60000 [==============================] - 2s 39us/step - loss: 0.0051 - acc: 0.9984 - val_loss: 0.1091 - val_acc: 0.9772\n",
            "Epoch 49/50\n",
            "60000/60000 [==============================] - 2s 38us/step - loss: 0.0034 - acc: 0.9989 - val_loss: 0.1076 - val_acc: 0.9775\n",
            "Epoch 50/50\n",
            "60000/60000 [==============================] - 2s 39us/step - loss: 0.0019 - acc: 0.9993 - val_loss: 0.1068 - val_acc: 0.9799\n",
            "10000/10000 [==============================] - 1s 61us/step\n"
          ],
          "name": "stdout"
        }
      ]
    },
    {
      "cell_type": "code",
      "metadata": {
        "id": "uOsXwFOvrs14",
        "colab_type": "code",
        "colab": {
          "base_uri": "https://localhost:8080/",
          "height": 295
        },
        "outputId": "cb8840f9-edb0-47df-f665-afb9cbef2501"
      },
      "source": [
        "#Plot loss vs epoch\n",
        "plt.plot(model_classifier_data.history['loss'])\n",
        "plt.plot(model_classifier_data.history['val_loss'])\n",
        "plt.title('Classifier Loss vs . Epoch')\n",
        "plt.ylabel('Loss')\n",
        "plt.xlabel('Epoch')\n",
        "plt.legend(['train', 'test'], loc='upper right')\n",
        "plt.show()"
      ],
      "execution_count": 8,
      "outputs": [
        {
          "output_type": "display_data",
          "data": {
            "image/png": "[encoded data removed]",
            "text/plain": [
              "<Figure size 432x288 with 1 Axes>"
            ]
          },
          "metadata": {
            "tags": []
          }
        }
      ]
    },
    {
      "cell_type": "code",
      "metadata": {
        "id": "4C4mOVvSr4KP",
        "colab_type": "code",
        "colab": {
          "base_uri": "https://localhost:8080/",
          "height": 295
        },
        "outputId": "d8b4b993-488f-41c4-816e-918d9d0c0c71"
      },
      "source": [
        "#Plot accuracy vs epoch\n",
        "plt.plot(model_classifier_data.history['acc'])\n",
        "plt.plot(model_classifier_data.history['val_acc'])\n",
        "plt.title('Classifier Accuracy vs . Epoch')\n",
        "plt.ylabel('Accuracy')\n",
        "plt.xlabel('Epoch')\n",
        "plt.legend(['train', 'test'], loc='upper right')\n",
        "plt.show()\n"
      ],
      "execution_count": 9,
      "outputs": [
        {
          "output_type": "display_data",
          "data": {
            "image/png": "[encoded data removed]",
            "text/plain": [
              "<Figure size 432x288 with 1 Axes>"
            ]
          },
          "metadata": {
            "tags": []
          }
        }
      ]
    },
    {
      "cell_type": "code",
      "metadata": {
        "id": "gr53zDpTr5wO",
        "colab_type": "code",
        "colab": {
          "base_uri": "https://localhost:8080/",
          "height": 34
        },
        "outputId": "23cf1fc9-1c71-4ada-f605-8e32f6c81203"
      },
      "source": [
        "#Print accuracy of classifier on MNIST testing data\n",
        "print(\"Accuracy : %.2f%%\" %(score[1]*100))"
      ],
      "execution_count": 10,
      "outputs": [
        {
          "output_type": "stream",
          "text": [
            "Accuracy : 97.99%\n"
          ],
          "name": "stdout"
        }
      ]
    },
    {
      "cell_type": "code",
      "metadata": {
        "id": "YEcrqpjas3Xh",
        "colab_type": "code",
        "colab": {}
      },
      "source": [
        "# Edit the classifier name fed into KerasModel Wrapper with the name of the \n",
        "# classifier from above and then run this block\n",
        "\n",
        "#Get TensorFlow Session to pass into Cleverhans modules\n",
        "sess = backend.get_session()\n",
        "\n",
        "#Create wrapper for classifier model so that it can be passed into Cleverhans modules\n",
        "wrap = KerasModelWrapper(model_classifier)"
      ],
      "execution_count": 0,
      "outputs": []
    },
    {
      "cell_type": "markdown",
      "metadata": {
        "id": "8_Ehc7tas5YS",
        "colab_type": "text"
      },
      "source": [
        "#Part 2: The Fast Gradient Method (FGM)"
      ]
    },
    {
      "cell_type": "code",
      "metadata": {
        "id": "GA5T9mkws9vJ",
        "colab_type": "code",
        "colab": {}
      },
      "source": [
        "#Implementing the FGSM attack\n",
        "\n",
        "#FGM Instance on trained classifier from Part 1\n",
        "#FILL THIS IN\n",
        "\n",
        "#Attack parameters\n",
        "#FILL THIS IN\n",
        "\n",
        "#Generate adversarial data\n",
        "#FILL THIS IN\n",
        "\n",
        "#Evaluate accuracy on target classifier \n",
        "#FILL THIS IN\n"
      ],
      "execution_count": 0,
      "outputs": []
    },
    {
      "cell_type": "code",
      "metadata": {
        "id": "wE_rdYIrDeNZ",
        "colab_type": "code",
        "colab": {}
      },
      "source": [
        "#Show ten original samples and their corresponding adversarial samples\n",
        "#FILL THIS IN"
      ],
      "execution_count": 0,
      "outputs": []
    },
    {
      "cell_type": "code",
      "metadata": {
        "id": "qurgywiaJe-I",
        "colab_type": "code",
        "colab": {}
      },
      "source": [
        "#Implementing Detection via Autoencoders\n",
        "\n",
        "def autoencoder():\n",
        "    ae = Sequential()\n",
        "    ae.add(Dense(400, activation=None, kernel_initializer=\"normal\", input_dim=784))\n",
        "    ae.add(Dense(200, activation=None, kernel_initializer='normal'))\n",
        "    ae.add(Dense(100, activation=None, kernel_initializer='normal'))\n",
        "    ae.add(Dense(200, activation=None, kernel_initializer='normal'))\n",
        "    ae.add(Dense(400, activation=None, kernel_initializer='normal'))\n",
        "    ae.add(Dense(784, activation='sigmoid', kernel_initializer='normal'))\n",
        "    return ae\n",
        "\n",
        "#Create and train the autoencoder using the mean squared error loss and adam optimizer\n",
        "#FILL THIS IN"
      ],
      "execution_count": 0,
      "outputs": []
    },
    {
      "cell_type": "code",
      "metadata": {
        "id": "sGVPbCP_JvDo",
        "colab_type": "code",
        "colab": {}
      },
      "source": [
        "#Using the autoencoder for detection and to determine a threshold \n",
        "\n",
        "# Create adversarial examples using FGSM on training data\n",
        "#FILL THIS IN\n",
        "\n",
        "# Obtain reconstruction errors on training set and determine a threshold \n",
        "#FILL THIS IN\n",
        "\n",
        "# Convert error tensor into NumPy array \n",
        "# CHANGE NAME 'error' TO WHAT YOU CALLED IT ABOVE\n",
        "error = error.eval(session=sess)\n",
        "\n",
        "# Determine threshold (based on min in this case) and print it \n",
        "#FILL THIS IN\n",
        "\n",
        "# Calculate error of adversarial testing set\n",
        "#FILL THIS IN\n",
        "\n",
        "# Determine how many examples are above threshold and consider them adversarial\n",
        "# (true positive count)\n",
        "# Hint: Use a 'for' loop to compare each error value to the threshold\n",
        "#FILL THIS IN\n",
        "\n",
        "# Print number of true positive samples\n",
        "#FILL THIS IN  \n",
        "\n",
        "# Determine false positives on benign testing set\n",
        "#FILL THIS IN \n",
        "\n",
        "\n",
        "# Determine how many examples are above threshold and consider them adversarial\n",
        "# (false positive count)\n",
        "# Hint: Use a 'for' loop to compare each error value to the threshold\n",
        "#FILL THIS IN \n",
        "    \n",
        "# Print number of false positive samples\n",
        "#FILL THIS IN   "
      ],
      "execution_count": 0,
      "outputs": []
    },
    {
      "cell_type": "markdown",
      "metadata": {
        "id": "VE2WG6LnP14d",
        "colab_type": "text"
      },
      "source": [
        "#Part 3: Projected Gradient Descent"
      ]
    },
    {
      "cell_type": "code",
      "metadata": {
        "id": "iEkYKPN-P4Sj",
        "colab_type": "code",
        "colab": {}
      },
      "source": [
        "#Implementing the PGD attack\n",
        "\n",
        "#PGD Instance on trained classifier from Part 1\n",
        "pgd = MadryEtAl(wrap, sess=sess)\n",
        "\n",
        "#Attack parameters\n",
        "#FILL THIS IN\n",
        "\n",
        "#Generate adversarial data\n",
        "#FILL THIS IN\n",
        "\n",
        "#Evaluate accuracy of perturbed data on target classifier\n",
        "#FILL THIS IN"
      ],
      "execution_count": 0,
      "outputs": []
    },
    {
      "cell_type": "code",
      "metadata": {
        "id": "urEHSPQISer1",
        "colab_type": "code",
        "colab": {}
      },
      "source": [
        "#Show ten original samples and their corresponding adversarial samples\n",
        "#FILL THIS IN "
      ],
      "execution_count": 0,
      "outputs": []
    },
    {
      "cell_type": "code",
      "metadata": {
        "id": "gTygGikdUWU8",
        "colab_type": "code",
        "colab": {}
      },
      "source": [
        "#Implementing the adversarial training defense\n",
        "#FILL THIS IN"
      ],
      "execution_count": 0,
      "outputs": []
    },
    {
      "cell_type": "code",
      "metadata": {
        "id": "i6dMEXGBUlci",
        "colab_type": "code",
        "colab": {}
      },
      "source": [
        "#Using the defense to evaluate the accuracy of the perturbed data\n",
        "#FILL THIS IN "
      ],
      "execution_count": 0,
      "outputs": []
    },
    {
      "cell_type": "markdown",
      "metadata": {
        "id": "MqIEiMdar_5q",
        "colab_type": "text"
      },
      "source": [
        "#Part 4: Carlini and Wagner Attack"
      ]
    },
    {
      "cell_type": "code",
      "metadata": {
        "id": "oyyNb-v5sCY6",
        "colab_type": "code",
        "colab": {}
      },
      "source": [
        "#Implementing the CW attack\n",
        "\n",
        "#CW Instance on trained classifier from Part 1\n",
        "#FILL THIS IN\n",
        "\n",
        "\n",
        "#Attack parameters\n",
        "#FILL THIS IN\n",
        "\n",
        "\n",
        "#Generate adversarial data\n",
        "#FILL THIS IN\n",
        "\n",
        "\n",
        "#Evaluate accuracy of perturbed data on target classifier\n",
        "#FILL THIS IN"
      ],
      "execution_count": 0,
      "outputs": []
    },
    {
      "cell_type": "code",
      "metadata": {
        "id": "rlEMqrlPurRL",
        "colab_type": "code",
        "colab": {}
      },
      "source": [
        "#Show ten original samples and their corresponding adversarial samples\n",
        "#FILL THIS IN "
      ],
      "execution_count": 0,
      "outputs": []
    },
    {
      "cell_type": "code",
      "metadata": {
        "id": "P-VhQHQ2uvmV",
        "colab_type": "code",
        "colab": {}
      },
      "source": [
        "#Implementing the dimensionality reduction (PCA) defense \n",
        "\n",
        "#Calculate PCA projection\n",
        "pca = PCA(100)\n",
        "pca.fit(data_train)\n",
        "pca_train = pca.transform(data_train)\n",
        "pca_test = pca.transform(data_test)\n",
        "\n",
        "#Transform perturbed CW data using the subspace from the original training data\n",
        "#FILL THIS IN \n",
        "\n",
        "# create model for PCA\n",
        "def pca_model():\n",
        "    model = Sequential()\n",
        "    \n",
        "    #FILL THIS IN \n",
        "\n",
        "    return model\n",
        "\n",
        "#Create model graph, compile it, and train it using pca_train lables_train \n",
        "#FILL THIS IN "
      ],
      "execution_count": 0,
      "outputs": []
    },
    {
      "cell_type": "code",
      "metadata": {
        "id": "o9L61AfG2y94",
        "colab_type": "code",
        "colab": {}
      },
      "source": [
        "#Using the defense (and comparing to baseline accuracy)\n",
        "#FILL THIS IN "
      ],
      "execution_count": 0,
      "outputs": []
    },
    {
      "cell_type": "markdown",
      "metadata": {
        "id": "KP0mENqGhDt0",
        "colab_type": "text"
      },
      "source": [
        "#Part 5: DeepFool "
      ]
    },
    {
      "cell_type": "code",
      "metadata": {
        "id": "zHraovc2hES3",
        "colab_type": "code",
        "colab": {}
      },
      "source": [
        "#Implementing the DeepFool attack\n",
        "\n",
        "#DeepFool Instance on trained classifier from Part 1\n",
        "#FILL THIS IN\n",
        "\n",
        "\n",
        "#Attack parameters\n",
        "#FILL THIS IN\n",
        "\n",
        "\n",
        "#Generate adversarial data\n",
        "#FILL THIS IN\n",
        "\n",
        "\n",
        "#Evaluate accuracy of perturbed data on target classifier\n",
        "#FILL THIS IN"
      ],
      "execution_count": 0,
      "outputs": []
    },
    {
      "cell_type": "code",
      "metadata": {
        "id": "zEsLfmxThZ6M",
        "colab_type": "code",
        "colab": {}
      },
      "source": [
        "#Show ten original samples and their corresponding adversarial samples\n",
        "#FILL THIS IN"
      ],
      "execution_count": 0,
      "outputs": []
    },
    {
      "cell_type": "code",
      "metadata": {
        "id": "tOapt7QaM4U_",
        "colab_type": "code",
        "colab": {}
      },
      "source": [
        "#Implementing the Denoising Autoencoder Defense\n",
        "\n",
        "def autoencoder():\n",
        "    ae = Sequential()\n",
        "    ae.add(Dense(400, activation=None, kernel_initializer=\"normal\", input_dim=784))\n",
        "    ae.add(Dense(200, activation=None, kernel_initializer='normal'))\n",
        "    ae.add(Dense(100, activation=None, kernel_initializer='normal'))\n",
        "    ae.add(Dense(200, activation=None, kernel_initializer='normal'))\n",
        "    ae.add(Dense(400, activation=None, kernel_initializer='normal'))\n",
        "    ae.add(Dense(784, activation='sigmoid', kernel_initializer='normal'))\n",
        "    return ae\n",
        "\n",
        "#Create training data for DAE \n",
        "df_attack_data_train = deepfool.generate_np(data_train, **fgm_params)\n",
        "data_total_train = np.concatenate([df_attack_data_train, data_train])\n",
        "\n",
        "#Create and train DAE graph\n",
        "#FILL THIS IN"
      ],
      "execution_count": 0,
      "outputs": []
    },
    {
      "cell_type": "code",
      "metadata": {
        "id": "5CjKifVRNMMV",
        "colab_type": "code",
        "colab": {}
      },
      "source": [
        "#Using the defense\n",
        "\n",
        "#Use DAE to to remove adversarial perturbation \n",
        "#FILL THIS IN\n",
        "\n",
        "#Evaluate accuracy of FGM samples after denoising \n",
        "#FILL THIS IN"
      ],
      "execution_count": 0,
      "outputs": []
    },
    {
      "cell_type": "code",
      "metadata": {
        "id": "6NSAW0v3NSMB",
        "colab_type": "code",
        "colab": {}
      },
      "source": [
        "#Show ten samples of adversarial samples after denoising\n",
        "#FILL THIS IN"
      ],
      "execution_count": 0,
      "outputs": []
    }
  ]
}