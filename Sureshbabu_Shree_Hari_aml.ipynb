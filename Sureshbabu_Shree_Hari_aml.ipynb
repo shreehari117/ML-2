{
  "nbformat": 4,
  "nbformat_minor": 0,
  "metadata": {
    "colab": {
      "name": "Sureshbabu_Shree Hari_aml.ipynb",
      "provenance": [],
      "collapsed_sections": [],
      "machine_shape": "hm",
      "include_colab_link": true
    },
    "kernelspec": {
      "name": "python2",
      "display_name": "Python 2"
    },
    "accelerator": "GPU"
  },
  "cells": [
    {
      "cell_type": "markdown",
      "metadata": {
        "id": "view-in-github",
        "colab_type": "text"
      },
      "source": [
        "<a href=\"https://colab.research.google.com/github/shreehari117/ML-2/blob/master/Sureshbabu_Shree_Hari_aml.ipynb\" target=\"_parent\"><img src=\"https://colab.research.google.com/assets/colab-badge.svg\" alt=\"Open In Colab\"/></a>"
      ]
    },
    {
      "cell_type": "markdown",
      "metadata": {
        "colab_type": "text",
        "id": "NiZYmbLsCx8C"
      },
      "source": [
        "#Student Name: Shree Hari Sureshbabu\n",
        "#ECE 595 Machine Learning II\n",
        "#Project 4: Adversarial Machine Learning - Student Code"
      ]
    },
    {
      "cell_type": "code",
      "metadata": {
        "id": "ZH3b6I2oq_6i",
        "colab_type": "code",
        "outputId": "5165ab85-afe8-4957-abde-3c950fb4c859",
        "colab": {
          "base_uri": "https://localhost:8080/",
          "height": 564
        }
      },
      "source": [
        "#Install Cleverhans (version Cleverhans 2.1.0 is most compatable with Python 2.x)\n",
        "!pip install cleverhans==2.1.0"
      ],
      "execution_count": 0,
      "outputs": [
        {
          "output_type": "stream",
          "text": [
            "Collecting cleverhans==2.1.0\n",
            "\u001b[?25l  Downloading https://files.pythonhosted.org/packages/e8/ea/c057263636b14c28923b42ed8ef52c0ba24d38e05fc3720f62df80a2f735/cleverhans-2.1.0.tar.gz (64kB)\n",
            "\u001b[K     |████████████████████████████████| 71kB 2.3MB/s \n",
            "\u001b[?25hRequirement already satisfied: nose in /usr/local/lib/python2.7/dist-packages (from cleverhans==2.1.0) (1.3.7)\n",
            "Collecting pycodestyle\n",
            "\u001b[?25l  Downloading https://files.pythonhosted.org/packages/0e/0c/04a353e104d2f324f8ee5f4b32012618c1c86dd79e52a433b64fceed511b/pycodestyle-2.5.0-py2.py3-none-any.whl (51kB)\n",
            "\u001b[K     |████████████████████████████████| 51kB 7.7MB/s \n",
            "\u001b[?25hRequirement already satisfied: scipy in /usr/local/lib/python2.7/dist-packages (from cleverhans==2.1.0) (1.2.2)\n",
            "Requirement already satisfied: matplotlib in /usr/local/lib/python2.7/dist-packages (from cleverhans==2.1.0) (2.2.4)\n",
            "Collecting mnist~=0.2\n",
            "  Downloading https://files.pythonhosted.org/packages/c6/c4/5db3bfe009f8d71f1d532bbadbd0ec203764bba3a469e4703a889db8e5e0/mnist-0.2.2-py2.py3-none-any.whl\n",
            "Requirement already satisfied: numpy in /usr/local/lib/python2.7/dist-packages (from cleverhans==2.1.0) (1.16.4)\n",
            "Requirement already satisfied: cycler>=0.10 in /usr/local/lib/python2.7/dist-packages (from matplotlib->cleverhans==2.1.0) (0.10.0)\n",
            "Requirement already satisfied: backports.functools-lru-cache in /usr/local/lib/python2.7/dist-packages (from matplotlib->cleverhans==2.1.0) (1.5)\n",
            "Requirement already satisfied: subprocess32 in /usr/local/lib/python2.7/dist-packages (from matplotlib->cleverhans==2.1.0) (3.5.4)\n",
            "Requirement already satisfied: kiwisolver>=1.0.1 in /usr/local/lib/python2.7/dist-packages (from matplotlib->cleverhans==2.1.0) (1.1.0)\n",
            "Requirement already satisfied: pytz in /usr/local/lib/python2.7/dist-packages (from matplotlib->cleverhans==2.1.0) (2018.9)\n",
            "Requirement already satisfied: six>=1.10 in /usr/local/lib/python2.7/dist-packages (from matplotlib->cleverhans==2.1.0) (1.12.0)\n",
            "Requirement already satisfied: python-dateutil>=2.1 in /usr/local/lib/python2.7/dist-packages (from matplotlib->cleverhans==2.1.0) (2.5.3)\n",
            "Requirement already satisfied: pyparsing!=2.0.4,!=2.1.2,!=2.1.6,>=2.0.1 in /usr/local/lib/python2.7/dist-packages (from matplotlib->cleverhans==2.1.0) (2.4.0)\n",
            "Requirement already satisfied: mock; python_version == \"2.7\" in /usr/local/lib/python2.7/dist-packages (from mnist~=0.2->cleverhans==2.1.0) (2.0.0)\n",
            "Requirement already satisfied: setuptools in /usr/local/lib/python2.7/dist-packages (from kiwisolver>=1.0.1->matplotlib->cleverhans==2.1.0) (41.4.0)\n",
            "Requirement already satisfied: funcsigs>=1; python_version < \"3.3\" in /usr/local/lib/python2.7/dist-packages (from mock; python_version == \"2.7\"->mnist~=0.2->cleverhans==2.1.0) (1.0.2)\n",
            "Requirement already satisfied: pbr>=0.11 in /usr/local/lib/python2.7/dist-packages (from mock; python_version == \"2.7\"->mnist~=0.2->cleverhans==2.1.0) (5.4.0)\n",
            "Building wheels for collected packages: cleverhans\n",
            "  Building wheel for cleverhans (setup.py) ... \u001b[?25l\u001b[?25hdone\n",
            "  Created wheel for cleverhans: filename=cleverhans-2.1.0-cp27-none-any.whl size=74866 sha256=067cab87f51193c3040dd98157260688160aa1c3900be1ac4a81b4b61cbe5793\n",
            "  Stored in directory: /root/.cache/pip/wheels/5e/d5/ae/5bf57b9265bffd5783c4462a9a7c1c5fd0ebe51db83ff5f586\n",
            "Successfully built cleverhans\n",
            "Installing collected packages: pycodestyle, mnist, cleverhans\n",
            "Successfully installed cleverhans-2.1.0 mnist-0.2.2 pycodestyle-2.5.0\n"
          ],
          "name": "stdout"
        }
      ]
    },
    {
      "cell_type": "code",
      "metadata": {
        "id": "mVKiKyxvrDio",
        "colab_type": "code",
        "outputId": "56775d7d-1832-4db8-d8af-0e963e7f0c86",
        "colab": {
          "base_uri": "https://localhost:8080/",
          "height": 80
        }
      },
      "source": [
        "#Import necessary packages\n",
        "from keras.datasets import mnist\n",
        "from keras import Sequential\n",
        "from keras.layers import Dense, BatchNormalization\n",
        "from keras import backend\n",
        "import keras\n",
        "import tensorflow as tf\n",
        "import numpy as np\n",
        "import matplotlib.pyplot as plt\n",
        "from sklearn.decomposition import PCA\n",
        "from cleverhans.utils_keras import KerasModelWrapper\n",
        "from cleverhans.attacks import FastGradientMethod, MadryEtAl, DeepFool, CarliniWagnerL2"
      ],
      "execution_count": 0,
      "outputs": [
        {
          "output_type": "stream",
          "text": [
            "Using TensorFlow backend.\n"
          ],
          "name": "stderr"
        },
        {
          "output_type": "display_data",
          "data": {
            "text/plain": [
              "<IPython.core.display.HTML object>"
            ],
            "text/html": [
              "<p style=\"color: red;\">\n",
              "The default version of TensorFlow in Colab will soon switch to TensorFlow 2.x.<br>\n",
              "We recommend you <a href=\"https://www.tensorflow.org/guide/migrate\" target=\"_blank\">upgrade</a> now \n",
              "or ensure your notebook will continue to use TensorFlow 1.x via the <code>%tensorflow_version 1.x</code> magic:\n",
              "<a href=\"https://colab.research.google.com/notebooks/tensorflow_version.ipynb\" target=\"_blank\">more info</a>.</p>\n"
            ]
          },
          "metadata": {
            "tags": []
          }
        }
      ]
    },
    {
      "cell_type": "markdown",
      "metadata": {
        "id": "AR7lUPK3rL3d",
        "colab_type": "text"
      },
      "source": [
        "#Part 1: Training a target classifier"
      ]
    },
    {
      "cell_type": "code",
      "metadata": {
        "id": "dRvltpU9rMZp",
        "colab_type": "code",
        "outputId": "a1422f80-2c15-4406-eac2-e9ed5368c13d",
        "colab": {
          "base_uri": "https://localhost:8080/",
          "height": 1000
        }
      },
      "source": [
        "# Load data MNIST data and normalize to [0, 1]\n",
        "(data_train, labels_train), (data_test, labels_test) = mnist.load_data()\n",
        "data_train = data_train/255.0\n",
        "data_test = data_test/255.0\n",
        "\n",
        "#Reshape training and testing data into 784-dimensional vectors \n",
        "data_train = data_train.reshape(60000,784)\n",
        "data_test = data_test.reshape(10000,784)\n",
        "\n",
        "#Convert integer labels for training and testing data into one-hot vectors \n",
        "labels_train = keras.utils.np_utils.to_categorical(labels_train, num_classes=10)\n",
        "labels_test = keras.utils.np_utils.to_categorical(labels_test, num_classes=10)\n",
        "\n",
        "#Create classifier architecture, compile it, and train it\n",
        "def classifier():\n",
        "  model_classifier = Sequential()\n",
        "  model_classifier.add(Dense(100, input_dim = 784, activation='relu'))\n",
        "  model_classifier.add(BatchNormalization())\n",
        "  model_classifier.add(Dense(100, activation='relu'))\n",
        "  model_classifier.add(BatchNormalization())\n",
        "  model_classifier.add(Dense(10, activation = 'softmax'))\n",
        "  return model_classifier\n",
        "\n",
        "model_classifier = classifier()\n",
        "model_classifier.compile(loss='categorical_crossentropy', optimizer='adam', metrics=['accuracy'])\n",
        "model_classifier_data = model_classifier.fit(data_train, labels_train, validation_data=(data_test, labels_test), epochs=50, batch_size=256, shuffle=True)\n",
        "score = model_classifier.evaluate(data_test, labels_test)"
      ],
      "execution_count": 0,
      "outputs": [
        {
          "output_type": "stream",
          "text": [
            "Downloading data from https://s3.amazonaws.com/img-datasets/mnist.npz\n",
            "11493376/11490434 [==============================] - 2s 0us/step\n",
            "11501568/11490434 [==============================] - 2s 0us/step\n"
          ],
          "name": "stdout"
        },
        {
          "output_type": "stream",
          "text": [
            "W1112 19:22:53.658740 140230100232064 module_wrapper.py:139] From /usr/local/lib/python2.7/dist-packages/keras/backend/tensorflow_backend.py:74: The name tf.get_default_graph is deprecated. Please use tf.compat.v1.get_default_graph instead.\n",
            "\n",
            "W1112 19:22:53.665669 140230100232064 module_wrapper.py:139] From /usr/local/lib/python2.7/dist-packages/keras/backend/tensorflow_backend.py:517: The name tf.placeholder is deprecated. Please use tf.compat.v1.placeholder instead.\n",
            "\n",
            "W1112 19:22:53.670351 140230100232064 module_wrapper.py:139] From /usr/local/lib/python2.7/dist-packages/keras/backend/tensorflow_backend.py:4138: The name tf.random_uniform is deprecated. Please use tf.random.uniform instead.\n",
            "\n",
            "W1112 19:22:53.737451 140230100232064 module_wrapper.py:139] From /usr/local/lib/python2.7/dist-packages/keras/backend/tensorflow_backend.py:133: The name tf.placeholder_with_default is deprecated. Please use tf.compat.v1.placeholder_with_default instead.\n",
            "\n",
            "W1112 19:22:53.819479 140230100232064 module_wrapper.py:139] From /usr/local/lib/python2.7/dist-packages/keras/optimizers.py:790: The name tf.train.Optimizer is deprecated. Please use tf.compat.v1.train.Optimizer instead.\n",
            "\n",
            "W1112 19:22:53.834481 140230100232064 module_wrapper.py:139] From /usr/local/lib/python2.7/dist-packages/keras/backend/tensorflow_backend.py:3295: The name tf.log is deprecated. Please use tf.math.log instead.\n",
            "\n",
            "W1112 19:22:53.922997 140230100232064 deprecation.py:323] From /usr/local/lib/python2.7/dist-packages/tensorflow_core/python/ops/math_grad.py:1424: where (from tensorflow.python.ops.array_ops) is deprecated and will be removed in a future version.\n",
            "Instructions for updating:\n",
            "Use tf.where in 2.0, which has the same broadcast rule as np.where\n",
            "W1112 19:22:54.128294 140230100232064 module_wrapper.py:139] From /usr/local/lib/python2.7/dist-packages/keras/backend/tensorflow_backend.py:986: The name tf.assign_add is deprecated. Please use tf.compat.v1.assign_add instead.\n",
            "\n",
            "W1112 19:22:54.221919 140230100232064 module_wrapper.py:139] From /usr/local/lib/python2.7/dist-packages/keras/backend/tensorflow_backend.py:973: The name tf.assign is deprecated. Please use tf.compat.v1.assign instead.\n",
            "\n",
            "W1112 19:22:54.313246 140230100232064 module_wrapper.py:139] From /usr/local/lib/python2.7/dist-packages/keras/backend/tensorflow_backend.py:2741: The name tf.Session is deprecated. Please use tf.compat.v1.Session instead.\n",
            "\n",
            "W1112 19:22:54.319946 140230100232064 module_wrapper.py:139] From /usr/local/lib/python2.7/dist-packages/keras/backend/tensorflow_backend.py:174: The name tf.get_default_session is deprecated. Please use tf.compat.v1.get_default_session instead.\n",
            "\n",
            "W1112 19:22:54.320751 140230100232064 module_wrapper.py:139] From /usr/local/lib/python2.7/dist-packages/keras/backend/tensorflow_backend.py:181: The name tf.ConfigProto is deprecated. Please use tf.compat.v1.ConfigProto instead.\n",
            "\n"
          ],
          "name": "stderr"
        },
        {
          "output_type": "stream",
          "text": [
            "Train on 60000 samples, validate on 10000 samples\n",
            "Epoch 1/50\n"
          ],
          "name": "stdout"
        },
        {
          "output_type": "stream",
          "text": [
            "W1112 19:22:55.471772 140230100232064 module_wrapper.py:139] From /usr/local/lib/python2.7/dist-packages/keras/backend/tensorflow_backend.py:190: The name tf.global_variables is deprecated. Please use tf.compat.v1.global_variables instead.\n",
            "\n",
            "W1112 19:22:55.472919 140230100232064 module_wrapper.py:139] From /usr/local/lib/python2.7/dist-packages/keras/backend/tensorflow_backend.py:199: The name tf.is_variable_initialized is deprecated. Please use tf.compat.v1.is_variable_initialized instead.\n",
            "\n",
            "W1112 19:22:55.623070 140230100232064 module_wrapper.py:139] From /usr/local/lib/python2.7/dist-packages/keras/backend/tensorflow_backend.py:206: The name tf.variables_initializer is deprecated. Please use tf.compat.v1.variables_initializer instead.\n",
            "\n"
          ],
          "name": "stderr"
        },
        {
          "output_type": "stream",
          "text": [
            "60000/60000 [==============================] - 6s 103us/step - loss: 0.3152 - acc: 0.9062 - val_loss: 0.1483 - val_acc: 0.9548\n",
            "Epoch 2/50\n",
            "60000/60000 [==============================] - 1s 25us/step - loss: 0.1162 - acc: 0.9661 - val_loss: 0.1149 - val_acc: 0.9630\n",
            "Epoch 3/50\n",
            "60000/60000 [==============================] - 1s 24us/step - loss: 0.0792 - acc: 0.9766 - val_loss: 0.0913 - val_acc: 0.9703\n",
            "Epoch 4/50\n",
            "60000/60000 [==============================] - 1s 25us/step - loss: 0.0572 - acc: 0.9836 - val_loss: 0.0820 - val_acc: 0.9747\n",
            "Epoch 5/50\n",
            "60000/60000 [==============================] - 1s 25us/step - loss: 0.0433 - acc: 0.9874 - val_loss: 0.0856 - val_acc: 0.9726\n",
            "Epoch 6/50\n",
            "60000/60000 [==============================] - 1s 25us/step - loss: 0.0342 - acc: 0.9903 - val_loss: 0.0922 - val_acc: 0.9711\n",
            "Epoch 7/50\n",
            "60000/60000 [==============================] - 1s 25us/step - loss: 0.0274 - acc: 0.9918 - val_loss: 0.0869 - val_acc: 0.9723\n",
            "Epoch 8/50\n",
            "60000/60000 [==============================] - 1s 24us/step - loss: 0.0208 - acc: 0.9940 - val_loss: 0.0748 - val_acc: 0.9766\n",
            "Epoch 9/50\n",
            "60000/60000 [==============================] - 1s 24us/step - loss: 0.0166 - acc: 0.9954 - val_loss: 0.0833 - val_acc: 0.9748\n",
            "Epoch 10/50\n",
            "60000/60000 [==============================] - 1s 25us/step - loss: 0.0149 - acc: 0.9961 - val_loss: 0.0907 - val_acc: 0.9749\n",
            "Epoch 11/50\n",
            "60000/60000 [==============================] - 1s 25us/step - loss: 0.0130 - acc: 0.9965 - val_loss: 0.0829 - val_acc: 0.9751\n",
            "Epoch 12/50\n",
            "60000/60000 [==============================] - 1s 24us/step - loss: 0.0126 - acc: 0.9962 - val_loss: 0.0856 - val_acc: 0.9749\n",
            "Epoch 13/50\n",
            "60000/60000 [==============================] - 1s 24us/step - loss: 0.0110 - acc: 0.9968 - val_loss: 0.0959 - val_acc: 0.9748\n",
            "Epoch 14/50\n",
            "60000/60000 [==============================] - 1s 24us/step - loss: 0.0080 - acc: 0.9979 - val_loss: 0.0920 - val_acc: 0.9756\n",
            "Epoch 15/50\n",
            "60000/60000 [==============================] - 1s 24us/step - loss: 0.0066 - acc: 0.9982 - val_loss: 0.0923 - val_acc: 0.9752\n",
            "Epoch 16/50\n",
            "60000/60000 [==============================] - 1s 24us/step - loss: 0.0079 - acc: 0.9978 - val_loss: 0.0996 - val_acc: 0.9746\n",
            "Epoch 17/50\n",
            "60000/60000 [==============================] - 1s 24us/step - loss: 0.0082 - acc: 0.9974 - val_loss: 0.0908 - val_acc: 0.9760\n",
            "Epoch 18/50\n",
            "60000/60000 [==============================] - 1s 24us/step - loss: 0.0091 - acc: 0.9972 - val_loss: 0.1119 - val_acc: 0.9724\n",
            "Epoch 19/50\n",
            "60000/60000 [==============================] - 1s 24us/step - loss: 0.0098 - acc: 0.9969 - val_loss: 0.1042 - val_acc: 0.9735\n",
            "Epoch 20/50\n",
            "60000/60000 [==============================] - 1s 24us/step - loss: 0.0073 - acc: 0.9976 - val_loss: 0.0974 - val_acc: 0.9772\n",
            "Epoch 21/50\n",
            "60000/60000 [==============================] - 1s 24us/step - loss: 0.0050 - acc: 0.9986 - val_loss: 0.0963 - val_acc: 0.9778\n",
            "Epoch 22/50\n",
            "60000/60000 [==============================] - 1s 24us/step - loss: 0.0065 - acc: 0.9980 - val_loss: 0.1130 - val_acc: 0.9742\n",
            "Epoch 23/50\n",
            "60000/60000 [==============================] - 1s 24us/step - loss: 0.0081 - acc: 0.9975 - val_loss: 0.1053 - val_acc: 0.9747\n",
            "Epoch 24/50\n",
            "60000/60000 [==============================] - 1s 24us/step - loss: 0.0045 - acc: 0.9988 - val_loss: 0.0960 - val_acc: 0.9772\n",
            "Epoch 25/50\n",
            "60000/60000 [==============================] - 1s 24us/step - loss: 0.0042 - acc: 0.9988 - val_loss: 0.0915 - val_acc: 0.9790\n",
            "Epoch 26/50\n",
            "60000/60000 [==============================] - 1s 24us/step - loss: 0.0054 - acc: 0.9982 - val_loss: 0.1133 - val_acc: 0.9747\n",
            "Epoch 27/50\n",
            "60000/60000 [==============================] - 1s 24us/step - loss: 0.0052 - acc: 0.9983 - val_loss: 0.1447 - val_acc: 0.9697\n",
            "Epoch 28/50\n",
            "60000/60000 [==============================] - 1s 24us/step - loss: 0.0073 - acc: 0.9974 - val_loss: 0.1174 - val_acc: 0.9730\n",
            "Epoch 29/50\n",
            "60000/60000 [==============================] - 1s 24us/step - loss: 0.0053 - acc: 0.9984 - val_loss: 0.1173 - val_acc: 0.9709\n",
            "Epoch 30/50\n",
            "60000/60000 [==============================] - 1s 24us/step - loss: 0.0048 - acc: 0.9984 - val_loss: 0.0923 - val_acc: 0.9771\n",
            "Epoch 31/50\n",
            "60000/60000 [==============================] - 1s 24us/step - loss: 0.0025 - acc: 0.9993 - val_loss: 0.1010 - val_acc: 0.9774\n",
            "Epoch 32/50\n",
            "60000/60000 [==============================] - 1s 24us/step - loss: 0.0039 - acc: 0.9989 - val_loss: 0.1014 - val_acc: 0.9789\n",
            "Epoch 33/50\n",
            "60000/60000 [==============================] - 1s 24us/step - loss: 0.0042 - acc: 0.9988 - val_loss: 0.1119 - val_acc: 0.9744\n",
            "Epoch 34/50\n",
            "60000/60000 [==============================] - 1s 24us/step - loss: 0.0042 - acc: 0.9987 - val_loss: 0.1023 - val_acc: 0.9775\n",
            "Epoch 35/50\n",
            "60000/60000 [==============================] - 1s 24us/step - loss: 0.0032 - acc: 0.9990 - val_loss: 0.1153 - val_acc: 0.9762\n",
            "Epoch 36/50\n",
            "60000/60000 [==============================] - 1s 24us/step - loss: 0.0062 - acc: 0.9978 - val_loss: 0.1313 - val_acc: 0.9727\n",
            "Epoch 37/50\n",
            "60000/60000 [==============================] - 1s 24us/step - loss: 0.0041 - acc: 0.9987 - val_loss: 0.1068 - val_acc: 0.9786\n",
            "Epoch 38/50\n",
            "60000/60000 [==============================] - 1s 24us/step - loss: 0.0031 - acc: 0.9992 - val_loss: 0.1013 - val_acc: 0.9787\n",
            "Epoch 39/50\n",
            "60000/60000 [==============================] - 1s 24us/step - loss: 0.0031 - acc: 0.9992 - val_loss: 0.1022 - val_acc: 0.9794\n",
            "Epoch 40/50\n",
            "60000/60000 [==============================] - 1s 24us/step - loss: 0.0040 - acc: 0.9987 - val_loss: 0.1075 - val_acc: 0.9775\n",
            "Epoch 41/50\n",
            "60000/60000 [==============================] - 1s 24us/step - loss: 0.0045 - acc: 0.9984 - val_loss: 0.1045 - val_acc: 0.9785\n",
            "Epoch 42/50\n",
            "60000/60000 [==============================] - 1s 25us/step - loss: 0.0023 - acc: 0.9994 - val_loss: 0.1178 - val_acc: 0.9787\n",
            "Epoch 43/50\n",
            "60000/60000 [==============================] - 1s 24us/step - loss: 0.0031 - acc: 0.9991 - val_loss: 0.1134 - val_acc: 0.9758\n",
            "Epoch 44/50\n",
            "60000/60000 [==============================] - 1s 24us/step - loss: 0.0057 - acc: 0.9983 - val_loss: 0.1200 - val_acc: 0.9765\n",
            "Epoch 45/50\n",
            "60000/60000 [==============================] - 1s 25us/step - loss: 0.0043 - acc: 0.9986 - val_loss: 0.1050 - val_acc: 0.9777\n",
            "Epoch 46/50\n",
            "60000/60000 [==============================] - 1s 24us/step - loss: 0.0031 - acc: 0.9992 - val_loss: 0.1175 - val_acc: 0.9746\n",
            "Epoch 47/50\n",
            "60000/60000 [==============================] - 1s 24us/step - loss: 0.0032 - acc: 0.9991 - val_loss: 0.1074 - val_acc: 0.9781\n",
            "Epoch 48/50\n",
            "60000/60000 [==============================] - 1s 24us/step - loss: 0.0018 - acc: 0.9994 - val_loss: 0.1049 - val_acc: 0.9784\n",
            "Epoch 49/50\n",
            "60000/60000 [==============================] - 1s 24us/step - loss: 0.0016 - acc: 0.9995 - val_loss: 0.1193 - val_acc: 0.9767\n",
            "Epoch 50/50\n",
            "60000/60000 [==============================] - 1s 24us/step - loss: 0.0024 - acc: 0.9993 - val_loss: 0.1057 - val_acc: 0.9788\n",
            "10000/10000 [==============================] - 0s 41us/step\n"
          ],
          "name": "stdout"
        }
      ]
    },
    {
      "cell_type": "code",
      "metadata": {
        "id": "uOsXwFOvrs14",
        "colab_type": "code",
        "outputId": "fd283de4-62c5-44eb-c209-a6cff02dbd6b",
        "colab": {
          "base_uri": "https://localhost:8080/",
          "height": 295
        }
      },
      "source": [
        "#Plot loss vs epoch\n",
        "plt.plot(model_classifier_data.history['loss'])\n",
        "plt.plot(model_classifier_data.history['val_loss'])\n",
        "plt.title('Classifier Loss vs . Epoch')\n",
        "plt.ylabel('Loss')\n",
        "plt.xlabel('Epoch')\n",
        "plt.legend(['train', 'test'], loc='upper right')\n",
        "plt.show()"
      ],
      "execution_count": 0,
      "outputs": [
        {
          "output_type": "display_data",
          "data": {
            "image/png": "[encoded data removed]",
            "text/plain": [
              "<Figure size 432x288 with 1 Axes>"
            ]
          },
          "metadata": {
            "tags": []
          }
        }
      ]
    },
    {
      "cell_type": "code",
      "metadata": {
        "id": "4C4mOVvSr4KP",
        "colab_type": "code",
        "outputId": "caae546d-f230-4131-dcf0-dd491590d210",
        "colab": {
          "base_uri": "https://localhost:8080/",
          "height": 295
        }
      },
      "source": [
        "#Plot accuracy vs epoch\n",
        "plt.plot(model_classifier_data.history['acc'])\n",
        "plt.plot(model_classifier_data.history['val_acc'])\n",
        "plt.title('Classifier Accuracy vs . Epoch')\n",
        "plt.ylabel('Accuracy')\n",
        "plt.xlabel('Epoch')\n",
        "plt.legend(['train', 'test'], loc='upper right')\n",
        "plt.show()\n"
      ],
      "execution_count": 0,
      "outputs": [
        {
          "output_type": "display_data",
          "data": {
            "image/png": "[encoded data removed]",
            "text/plain": [
              "<Figure size 432x288 with 1 Axes>"
            ]
          },
          "metadata": {
            "tags": []
          }
        }
      ]
    },
    {
      "cell_type": "code",
      "metadata": {
        "id": "gr53zDpTr5wO",
        "colab_type": "code",
        "outputId": "27a7abf4-b95c-4605-8901-d63259ccb6f4",
        "colab": {
          "base_uri": "https://localhost:8080/",
          "height": 34
        }
      },
      "source": [
        "#Print accuracy of classifier on MNIST testing data\n",
        "print(\"Accuracy : %.2f%%\" %(score[1]*100))"
      ],
      "execution_count": 0,
      "outputs": [
        {
          "output_type": "stream",
          "text": [
            "Accuracy : 97.87%\n"
          ],
          "name": "stdout"
        }
      ]
    },
    {
      "cell_type": "code",
      "metadata": {
        "id": "YEcrqpjas3Xh",
        "colab_type": "code",
        "colab": {}
      },
      "source": [
        "# Edit the classifier name fed into KerasModel Wrapper with the name of the \n",
        "# classifier from above and then run this block\n",
        "\n",
        "#Get TensorFlow Session to pass into Cleverhans modules\n",
        "sess = backend.get_session()\n",
        "\n",
        "#Create wrapper for classifier model so that it can be passed into Cleverhans modules\n",
        "wrap = KerasModelWrapper(model_classifier)"
      ],
      "execution_count": 0,
      "outputs": []
    },
    {
      "cell_type": "markdown",
      "metadata": {
        "id": "8_Ehc7tas5YS",
        "colab_type": "text"
      },
      "source": [
        "#Part 2: The Fast Gradient Method (FGM)"
      ]
    },
    {
      "cell_type": "code",
      "metadata": {
        "id": "GA5T9mkws9vJ",
        "colab_type": "code",
        "outputId": "2bfbaaa9-3e45-41e3-d03c-266c4f6ac312",
        "colab": {
          "base_uri": "https://localhost:8080/",
          "height": 51
        }
      },
      "source": [
        "#Implementing the FGSM attack\n",
        "\n",
        "#FGM Instance on trained classifier from Part 1\n",
        "fgsm = FastGradientMethod(wrap, sess=sess)\n",
        "\n",
        "#Attack parameters\n",
        "fgsm_params = {'eps':0.25, 'clip_min':0.0, 'clip_max':1.0}\n",
        "\n",
        "#Generate adversarial data\n",
        "fgsm_adv_data_test = fgsm.generate_np(data_test, **fgsm_params)\n",
        "\n",
        "#Evaluate accuracy on target classifier \n",
        "fgsm_adv_score = model_classifier.evaluate(fgsm_adv_data_test, labels_test)\n",
        "print('FGSM Adversarial Attack Accuracy : %.2f%%' %(fgsm_adv_score[1]*100))\n"
      ],
      "execution_count": 0,
      "outputs": [
        {
          "output_type": "stream",
          "text": [
            "10000/10000 [==============================] - 1s 101us/step\n",
            "FGSM Adversarial Attack Accuracy : 8.12%\n"
          ],
          "name": "stdout"
        }
      ]
    },
    {
      "cell_type": "code",
      "metadata": {
        "id": "wE_rdYIrDeNZ",
        "colab_type": "code",
        "outputId": "f25c16f2-2098-45bb-b183-6d04035e7cf2",
        "colab": {
          "base_uri": "https://localhost:8080/",
          "height": 194
        }
      },
      "source": [
        "#Show ten original samples and their corresponding adversarial samples\n",
        "num_images = 10\n",
        "np.random.seed(42)\n",
        "random_original_samples = np.random.randint(data_test.shape[0], size=num_images)\n",
        "random_adversarial_samples = np.random.randint(fgsm_adv_data_test.shape[0], size=num_images)\n",
        "plt.figure(figsize=(24, 6))\n",
        "\n",
        "for i, image_idx in enumerate(random_original_samples):\n",
        "    # plot original image\n",
        "    ax = plt.subplot(4, num_images, i + 1)\n",
        "    plt.imshow(data_test[image_idx].reshape(28,28))\n",
        "    plt.gray()\n",
        "    ax.get_xaxis().set_visible(False)\n",
        "    ax.get_yaxis().set_visible(False)\n",
        "    \n",
        "    # plot adversarial image\n",
        "    ax = plt.subplot(4, num_images, num_images + i + 1)\n",
        "    plt.imshow(fgsm_adv_data_test[image_idx].reshape(28,28))\n",
        "    plt.gray()\n",
        "    ax.get_xaxis().set_visible(False)\n",
        "    ax.get_yaxis().set_visible(False)\n",
        "    \n",
        "plt.show()"
      ],
      "execution_count": 0,
      "outputs": [
        {
          "output_type": "display_data",
          "data": {
            "image/png": "[encoded data removed]",
            "text/plain": [
              "<Figure size 1728x432 with 20 Axes>"
            ]
          },
          "metadata": {
            "tags": []
          }
        }
      ]
    },
    {
      "cell_type": "code",
      "metadata": {
        "id": "qurgywiaJe-I",
        "colab_type": "code",
        "outputId": "7dd7d4af-54d6-45e0-f6a0-7ca24b31db97",
        "colab": {
          "base_uri": "https://localhost:8080/",
          "height": 1000
        }
      },
      "source": [
        "#Implementing Detection via Autoencoders\n",
        "\n",
        "def autoencoder():\n",
        "    ae = Sequential()\n",
        "    ae.add(Dense(400, activation=None, kernel_initializer=\"normal\", input_dim=784))\n",
        "    ae.add(Dense(200, activation=None, kernel_initializer='normal'))\n",
        "    ae.add(Dense(100, activation=None, kernel_initializer='normal'))\n",
        "    ae.add(Dense(200, activation=None, kernel_initializer='normal'))\n",
        "    ae.add(Dense(400, activation=None, kernel_initializer='normal'))\n",
        "    ae.add(Dense(784, activation='sigmoid', kernel_initializer='normal'))\n",
        "    return ae\n",
        "\n",
        "#Create and train the autoencoder using the mean squared error loss and adam optimizer\n",
        "ae_model = autoencoder()\n",
        "ae_model.compile(loss='mse', optimizer='adam', metrics=['accuracy'])\n",
        "\n",
        "ae_model_history = ae_model.fit(data_train, data_train, validation_data=(data_test, data_test), epochs=50, batch_size=256, shuffle=True)"
      ],
      "execution_count": 0,
      "outputs": [
        {
          "output_type": "stream",
          "text": [
            "Train on 60000 samples, validate on 10000 samples\n",
            "Epoch 1/50\n",
            "60000/60000 [==============================] - 2s 33us/step - loss: 0.0376 - acc: 0.0093 - val_loss: 0.0158 - val_acc: 0.0111\n",
            "Epoch 2/50\n",
            "60000/60000 [==============================] - 1s 21us/step - loss: 0.0117 - acc: 0.0118 - val_loss: 0.0089 - val_acc: 0.0136\n",
            "Epoch 3/50\n",
            "60000/60000 [==============================] - 1s 21us/step - loss: 0.0081 - acc: 0.0117 - val_loss: 0.0069 - val_acc: 0.0121\n",
            "Epoch 4/50\n",
            "60000/60000 [==============================] - 1s 21us/step - loss: 0.0064 - acc: 0.0132 - val_loss: 0.0058 - val_acc: 0.0112\n",
            "Epoch 5/50\n",
            "60000/60000 [==============================] - 1s 22us/step - loss: 0.0055 - acc: 0.0133 - val_loss: 0.0050 - val_acc: 0.0115\n",
            "Epoch 6/50\n",
            "60000/60000 [==============================] - 1s 21us/step - loss: 0.0049 - acc: 0.0134 - val_loss: 0.0045 - val_acc: 0.0122\n",
            "Epoch 7/50\n",
            "60000/60000 [==============================] - 1s 21us/step - loss: 0.0044 - acc: 0.0130 - val_loss: 0.0041 - val_acc: 0.0132\n",
            "Epoch 8/50\n",
            "60000/60000 [==============================] - 1s 21us/step - loss: 0.0040 - acc: 0.0136 - val_loss: 0.0038 - val_acc: 0.0120\n",
            "Epoch 9/50\n",
            "60000/60000 [==============================] - 1s 21us/step - loss: 0.0037 - acc: 0.0134 - val_loss: 0.0034 - val_acc: 0.0119\n",
            "Epoch 10/50\n",
            "60000/60000 [==============================] - 1s 21us/step - loss: 0.0034 - acc: 0.0134 - val_loss: 0.0033 - val_acc: 0.0146\n",
            "Epoch 11/50\n",
            "60000/60000 [==============================] - 1s 21us/step - loss: 0.0032 - acc: 0.0138 - val_loss: 0.0031 - val_acc: 0.0132\n",
            "Epoch 12/50\n",
            "60000/60000 [==============================] - 1s 22us/step - loss: 0.0031 - acc: 0.0136 - val_loss: 0.0029 - val_acc: 0.0145\n",
            "Epoch 13/50\n",
            "60000/60000 [==============================] - 1s 21us/step - loss: 0.0029 - acc: 0.0134 - val_loss: 0.0028 - val_acc: 0.0139\n",
            "Epoch 14/50\n",
            "60000/60000 [==============================] - 1s 21us/step - loss: 0.0028 - acc: 0.0134 - val_loss: 0.0027 - val_acc: 0.0150\n",
            "Epoch 15/50\n",
            "60000/60000 [==============================] - 1s 21us/step - loss: 0.0027 - acc: 0.0140 - val_loss: 0.0026 - val_acc: 0.0150\n",
            "Epoch 16/50\n",
            "60000/60000 [==============================] - 1s 21us/step - loss: 0.0026 - acc: 0.0138 - val_loss: 0.0026 - val_acc: 0.0155\n",
            "Epoch 17/50\n",
            "60000/60000 [==============================] - 1s 21us/step - loss: 0.0026 - acc: 0.0134 - val_loss: 0.0025 - val_acc: 0.0145\n",
            "Epoch 18/50\n",
            "60000/60000 [==============================] - 1s 21us/step - loss: 0.0025 - acc: 0.0137 - val_loss: 0.0024 - val_acc: 0.0133\n",
            "Epoch 19/50\n",
            "60000/60000 [==============================] - 1s 21us/step - loss: 0.0024 - acc: 0.0136 - val_loss: 0.0024 - val_acc: 0.0144\n",
            "Epoch 20/50\n",
            "60000/60000 [==============================] - 1s 21us/step - loss: 0.0023 - acc: 0.0142 - val_loss: 0.0023 - val_acc: 0.0148\n",
            "Epoch 21/50\n",
            "60000/60000 [==============================] - 1s 21us/step - loss: 0.0023 - acc: 0.0148 - val_loss: 0.0023 - val_acc: 0.0147\n",
            "Epoch 22/50\n",
            "60000/60000 [==============================] - 1s 21us/step - loss: 0.0022 - acc: 0.0136 - val_loss: 0.0022 - val_acc: 0.0140\n",
            "Epoch 23/50\n",
            "60000/60000 [==============================] - 1s 22us/step - loss: 0.0022 - acc: 0.0146 - val_loss: 0.0022 - val_acc: 0.0155\n",
            "Epoch 24/50\n",
            "60000/60000 [==============================] - 1s 21us/step - loss: 0.0022 - acc: 0.0146 - val_loss: 0.0021 - val_acc: 0.0144\n",
            "Epoch 25/50\n",
            "60000/60000 [==============================] - 1s 21us/step - loss: 0.0021 - acc: 0.0145 - val_loss: 0.0021 - val_acc: 0.0150\n",
            "Epoch 26/50\n",
            "60000/60000 [==============================] - 1s 21us/step - loss: 0.0021 - acc: 0.0145 - val_loss: 0.0021 - val_acc: 0.0135\n",
            "Epoch 27/50\n",
            "60000/60000 [==============================] - 1s 21us/step - loss: 0.0021 - acc: 0.0138 - val_loss: 0.0020 - val_acc: 0.0135\n",
            "Epoch 28/50\n",
            "60000/60000 [==============================] - 1s 21us/step - loss: 0.0020 - acc: 0.0144 - val_loss: 0.0020 - val_acc: 0.0143\n",
            "Epoch 29/50\n",
            "60000/60000 [==============================] - 1s 21us/step - loss: 0.0020 - acc: 0.0152 - val_loss: 0.0020 - val_acc: 0.0134\n",
            "Epoch 30/50\n",
            "60000/60000 [==============================] - 1s 21us/step - loss: 0.0020 - acc: 0.0144 - val_loss: 0.0020 - val_acc: 0.0139\n",
            "Epoch 31/50\n",
            "60000/60000 [==============================] - 1s 21us/step - loss: 0.0020 - acc: 0.0151 - val_loss: 0.0020 - val_acc: 0.0138\n",
            "Epoch 32/50\n",
            "60000/60000 [==============================] - 1s 21us/step - loss: 0.0020 - acc: 0.0141 - val_loss: 0.0020 - val_acc: 0.0136\n",
            "Epoch 33/50\n",
            "60000/60000 [==============================] - 1s 22us/step - loss: 0.0020 - acc: 0.0141 - val_loss: 0.0020 - val_acc: 0.0138\n",
            "Epoch 34/50\n",
            "60000/60000 [==============================] - 1s 21us/step - loss: 0.0020 - acc: 0.0143 - val_loss: 0.0020 - val_acc: 0.0138\n",
            "Epoch 35/50\n",
            "60000/60000 [==============================] - 1s 21us/step - loss: 0.0020 - acc: 0.0145 - val_loss: 0.0019 - val_acc: 0.0142\n",
            "Epoch 36/50\n",
            "60000/60000 [==============================] - 1s 21us/step - loss: 0.0020 - acc: 0.0139 - val_loss: 0.0020 - val_acc: 0.0143\n",
            "Epoch 37/50\n",
            "60000/60000 [==============================] - 1s 22us/step - loss: 0.0019 - acc: 0.0140 - val_loss: 0.0020 - val_acc: 0.0128\n",
            "Epoch 38/50\n",
            "60000/60000 [==============================] - 1s 21us/step - loss: 0.0019 - acc: 0.0148 - val_loss: 0.0020 - val_acc: 0.0138\n",
            "Epoch 39/50\n",
            "60000/60000 [==============================] - 1s 21us/step - loss: 0.0019 - acc: 0.0144 - val_loss: 0.0020 - val_acc: 0.0152\n",
            "Epoch 40/50\n",
            "60000/60000 [==============================] - 1s 21us/step - loss: 0.0019 - acc: 0.0147 - val_loss: 0.0019 - val_acc: 0.0156\n",
            "Epoch 41/50\n",
            "60000/60000 [==============================] - 1s 21us/step - loss: 0.0019 - acc: 0.0145 - val_loss: 0.0020 - val_acc: 0.0146\n",
            "Epoch 42/50\n",
            "60000/60000 [==============================] - 1s 21us/step - loss: 0.0019 - acc: 0.0140 - val_loss: 0.0020 - val_acc: 0.0142\n",
            "Epoch 43/50\n",
            "60000/60000 [==============================] - 1s 21us/step - loss: 0.0019 - acc: 0.0140 - val_loss: 0.0020 - val_acc: 0.0150\n",
            "Epoch 44/50\n",
            "60000/60000 [==============================] - 1s 22us/step - loss: 0.0019 - acc: 0.0151 - val_loss: 0.0019 - val_acc: 0.0133\n",
            "Epoch 45/50\n",
            "60000/60000 [==============================] - 1s 21us/step - loss: 0.0019 - acc: 0.0146 - val_loss: 0.0019 - val_acc: 0.0150\n",
            "Epoch 46/50\n",
            "60000/60000 [==============================] - 1s 21us/step - loss: 0.0019 - acc: 0.0149 - val_loss: 0.0019 - val_acc: 0.0154\n",
            "Epoch 47/50\n",
            "60000/60000 [==============================] - 1s 21us/step - loss: 0.0019 - acc: 0.0145 - val_loss: 0.0019 - val_acc: 0.0142\n",
            "Epoch 48/50\n",
            "60000/60000 [==============================] - 1s 21us/step - loss: 0.0019 - acc: 0.0139 - val_loss: 0.0019 - val_acc: 0.0159\n",
            "Epoch 49/50\n",
            "60000/60000 [==============================] - 1s 21us/step - loss: 0.0019 - acc: 0.0144 - val_loss: 0.0019 - val_acc: 0.0136\n",
            "Epoch 50/50\n",
            "60000/60000 [==============================] - 1s 21us/step - loss: 0.0019 - acc: 0.0148 - val_loss: 0.0019 - val_acc: 0.0139\n"
          ],
          "name": "stdout"
        }
      ]
    },
    {
      "cell_type": "code",
      "metadata": {
        "id": "sGVPbCP_JvDo",
        "colab_type": "code",
        "outputId": "fa1d3f4d-d018-49c0-ca79-1918248fc0e8",
        "colab": {
          "base_uri": "https://localhost:8080/",
          "height": 68
        }
      },
      "source": [
        "#Using the autoencoder for detection and to determine a threshold \n",
        "\n",
        "# Create adversarial examples using FGSM on training data\n",
        "fgsm_adv_data_train = fgsm.generate_np(data_train, **fgsm_params)\n",
        "\n",
        "# Obtain reconstruction errors on training set and determine a threshold \n",
        "data_train_adv_reconstructions = ae_model.predict(fgsm_adv_data_train)\n",
        "train_error = keras.losses.mean_squared_error(fgsm_adv_data_train, data_train_adv_reconstructions)\n",
        "\n",
        "# Convert error tensor into NumPy array \n",
        "# CHANGE NAME 'error' TO WHAT YOU CALLED IT ABOVE\n",
        "train_error = train_error.eval(session=sess)\n",
        "\n",
        "# Determine threshold (based on min in this case) and print it \n",
        "min_train_error = min(train_error)\n",
        "\n",
        "print(\"The minimum error (Threshold) : \", min_train_error)\n",
        "\n",
        "# Calculate error of adversarial testing set\n",
        "data_test_adv_reconstructions = ae_model.predict(fgsm_adv_data_test)\n",
        "test_error = keras.losses.mean_squared_error(fgsm_adv_data_test, data_test_adv_reconstructions)\n",
        "test_error = test_error.eval(session=sess)\n",
        "\n",
        "data_test_reconstructions = ae_model.predict(data_test)\n",
        "test_error_data_test = keras.losses.mean_squared_error(data_test, data_test_reconstructions)\n",
        "test_error_data_test = test_error_data_test.eval(session=sess)\n",
        "\n",
        "# Determine how many examples are above threshold and consider them adversarial\n",
        "# (true positive count)\n",
        "# Hint: Use a 'for' loop to compare each error value to the threshold\n",
        "true_positive_count = 0\n",
        "true_positive = []\n",
        "for i in test_error:\n",
        "  if i > min_train_error:\n",
        "    true_positive.append(i)\n",
        "    true_positive_count = true_positive_count + 1\n",
        "\n",
        "\n",
        "# Print number of true positive samples\n",
        "print(\"The number of true positive samples : \", true_positive_count)\n",
        "\n",
        "# Determine false positives on benign testing set\n",
        "\n",
        "# Determine how many examples are above threshold and consider them adversarial\n",
        "# (false positive count)\n",
        "# Hint: Use a 'for' loop to compare each error value to the threshold\n",
        "false_positive_count = 0\n",
        "false_positive = []\n",
        "for i in test_error_data_test:\n",
        "  if i > min_train_error:\n",
        "    false_positive.append(i)\n",
        "    false_positive_count = false_positive_count + 1\n",
        "    \n",
        "# Print number of false positive samples\n",
        "print(\"The number of false positive samples : \", false_positive_count)  "
      ],
      "execution_count": 0,
      "outputs": [
        {
          "output_type": "stream",
          "text": [
            "('The minimum error (Threshold) : ', 0.021254696)\n",
            "('The number of true positive samples : ', 10000)\n",
            "('The number of false positive samples : ', 0)\n"
          ],
          "name": "stdout"
        }
      ]
    },
    {
      "cell_type": "markdown",
      "metadata": {
        "id": "VE2WG6LnP14d",
        "colab_type": "text"
      },
      "source": [
        "#Part 3: Projected Gradient Descent"
      ]
    },
    {
      "cell_type": "code",
      "metadata": {
        "id": "iEkYKPN-P4Sj",
        "colab_type": "code",
        "outputId": "da9df58d-1358-4ec8-9612-ee7809bd72ab",
        "colab": {
          "base_uri": "https://localhost:8080/",
          "height": 51
        }
      },
      "source": [
        "#Implementing the PGD attack\n",
        "\n",
        "#PGD Instance on trained classifier from Part 1\n",
        "pgd = MadryEtAl(wrap, sess=sess)\n",
        "\n",
        "#Attack parameters\n",
        "pgd_params = {'eps':0.25, 'eps_iter':0.01, 'nb_iter':20, 'clip_min':0.0, 'clip_max':1.0}\n",
        "\n",
        "#Generate adversarial data\n",
        "pgd_adv_data_test = pgd.generate_np(data_test, **pgd_params)\n",
        "\n",
        "#Evaluate accuracy of perturbed data on target classifier\n",
        "pgd_adv_score = model_classifier.evaluate(pgd_adv_data_test, labels_test)\n",
        "print(\"Accuracy of PGD adversarial attack : \", pgd_adv_score[1]*100)"
      ],
      "execution_count": 0,
      "outputs": [
        {
          "output_type": "stream",
          "text": [
            "10000/10000 [==============================] - 2s 222us/step\n",
            "('Accuracy of PGD adversarial attack : ', 1.5)\n"
          ],
          "name": "stdout"
        }
      ]
    },
    {
      "cell_type": "code",
      "metadata": {
        "id": "urEHSPQISer1",
        "colab_type": "code",
        "outputId": "a25832ac-a919-446a-c05f-c9b9f47b1390",
        "colab": {
          "base_uri": "https://localhost:8080/",
          "height": 194
        }
      },
      "source": [
        "#Show ten original samples and their corresponding adversarial samples\n",
        "num_images = 10\n",
        "np.random.seed(42)\n",
        "random_original_samples = np.random.randint(data_test.shape[0], size=num_images)\n",
        "random_adversarial_samples = np.random.randint(pgd_adv_data_test.shape[0], size=num_images)\n",
        "plt.figure(figsize=(24, 6))\n",
        "\n",
        "for i, image_idx in enumerate(random_original_samples):\n",
        "    # plot original image\n",
        "    ax = plt.subplot(4, num_images, i + 1)\n",
        "    plt.imshow(data_test[image_idx].reshape(28,28))\n",
        "    plt.gray()\n",
        "    ax.get_xaxis().set_visible(False)\n",
        "    ax.get_yaxis().set_visible(False)\n",
        "\n",
        "    # plot adversarial image\n",
        "    ax = plt.subplot(4, num_images, num_images + i + 1)\n",
        "    plt.imshow(pgd_adv_data_test[image_idx].reshape(28,28))\n",
        "    plt.gray()\n",
        "    ax.get_xaxis().set_visible(False)\n",
        "    ax.get_yaxis().set_visible(False)\n",
        "    \n",
        "plt.show()"
      ],
      "execution_count": 0,
      "outputs": [
        {
          "output_type": "display_data",
          "data": {
            "image/png": "[encoded data removed]",
            "text/plain": [
              "<Figure size 1728x432 with 20 Axes>"
            ]
          },
          "metadata": {
            "tags": []
          }
        }
      ]
    },
    {
      "cell_type": "code",
      "metadata": {
        "id": "gTygGikdUWU8",
        "colab_type": "code",
        "outputId": "b22f83f6-76fc-44c2-a5fd-7dca77994ffa",
        "colab": {
          "base_uri": "https://localhost:8080/",
          "height": 1000
        }
      },
      "source": [
        "#Implementing the adversarial training defense\n",
        "pgd_adv_data_train = pgd.generate_np(data_train, **pgd_params)\n",
        "\n",
        "pgd_classifier = model_classifier\n",
        "\n",
        "pgd_classifier.compile(loss = \"categorical_crossentropy\", optimizer = \"adam\", metrics = [\"accuracy\"])\n",
        "total_data = np.concatenate((pgd_adv_data_train, data_train), axis=0)\n",
        "total_labels = np.concatenate((labels_train, labels_train), axis=0)\n",
        "pgd_classifier_history = pgd_classifier.fit(total_data,total_labels, validation_data = (data_test, labels_test), epochs=50, batch_size=256, shuffle=True)\n",
        "pgd_score = pgd_classifier.evaluate(data_train, labels_train)\n",
        "\n",
        "print(\"Accuracy of PGD adversarial classifier : \", pgd_score[1]*100)"
      ],
      "execution_count": 0,
      "outputs": [
        {
          "output_type": "stream",
          "text": [
            "Train on 120000 samples, validate on 10000 samples\n",
            "Epoch 1/50\n",
            "120000/120000 [==============================] - 7s 57us/step - loss: 0.9940 - acc: 0.8760 - val_loss: 0.1164 - val_acc: 0.9698\n",
            "Epoch 2/50\n",
            "120000/120000 [==============================] - 5s 41us/step - loss: 0.0679 - acc: 0.9790 - val_loss: 0.0910 - val_acc: 0.9754\n",
            "Epoch 3/50\n",
            "120000/120000 [==============================] - 5s 40us/step - loss: 0.0356 - acc: 0.9891 - val_loss: 0.0834 - val_acc: 0.9777\n",
            "Epoch 4/50\n",
            "120000/120000 [==============================] - 5s 40us/step - loss: 0.0219 - acc: 0.9935 - val_loss: 0.0833 - val_acc: 0.9765\n",
            "Epoch 5/50\n",
            "120000/120000 [==============================] - 5s 40us/step - loss: 0.0144 - acc: 0.9959 - val_loss: 0.0870 - val_acc: 0.9778\n",
            "Epoch 6/50\n",
            "120000/120000 [==============================] - 5s 40us/step - loss: 0.0108 - acc: 0.9970 - val_loss: 0.0903 - val_acc: 0.9767\n",
            "Epoch 7/50\n",
            "120000/120000 [==============================] - 5s 41us/step - loss: 0.0081 - acc: 0.9976 - val_loss: 0.0892 - val_acc: 0.9773\n",
            "Epoch 8/50\n",
            "120000/120000 [==============================] - 5s 41us/step - loss: 0.0069 - acc: 0.9981 - val_loss: 0.0881 - val_acc: 0.9781\n",
            "Epoch 9/50\n",
            "120000/120000 [==============================] - 5s 41us/step - loss: 0.0075 - acc: 0.9977 - val_loss: 0.0885 - val_acc: 0.9788\n",
            "Epoch 10/50\n",
            "120000/120000 [==============================] - 5s 40us/step - loss: 0.0057 - acc: 0.9983 - val_loss: 0.0929 - val_acc: 0.9780\n",
            "Epoch 11/50\n",
            "120000/120000 [==============================] - 5s 40us/step - loss: 0.0055 - acc: 0.9982 - val_loss: 0.0926 - val_acc: 0.9792\n",
            "Epoch 12/50\n",
            "120000/120000 [==============================] - 5s 41us/step - loss: 0.0055 - acc: 0.9984 - val_loss: 0.0968 - val_acc: 0.9788\n",
            "Epoch 13/50\n",
            "120000/120000 [==============================] - 5s 43us/step - loss: 0.0052 - acc: 0.9983 - val_loss: 0.0954 - val_acc: 0.9780\n",
            "Epoch 14/50\n",
            "120000/120000 [==============================] - 5s 41us/step - loss: 0.0044 - acc: 0.9985 - val_loss: 0.0981 - val_acc: 0.9779\n",
            "Epoch 15/50\n",
            "120000/120000 [==============================] - 5s 41us/step - loss: 0.0043 - acc: 0.9986 - val_loss: 0.1073 - val_acc: 0.9775\n",
            "Epoch 16/50\n",
            "120000/120000 [==============================] - 5s 40us/step - loss: 0.0047 - acc: 0.9985 - val_loss: 0.0953 - val_acc: 0.9793\n",
            "Epoch 17/50\n",
            "120000/120000 [==============================] - 5s 40us/step - loss: 0.0032 - acc: 0.9990 - val_loss: 0.0905 - val_acc: 0.9797\n",
            "Epoch 18/50\n",
            "120000/120000 [==============================] - 5s 40us/step - loss: 0.0040 - acc: 0.9987 - val_loss: 0.1027 - val_acc: 0.9778\n",
            "Epoch 19/50\n",
            "120000/120000 [==============================] - 5s 41us/step - loss: 0.0038 - acc: 0.9987 - val_loss: 0.1109 - val_acc: 0.9783\n",
            "Epoch 20/50\n",
            "120000/120000 [==============================] - 5s 40us/step - loss: 0.0033 - acc: 0.9990 - val_loss: 0.1072 - val_acc: 0.9793\n",
            "Epoch 21/50\n",
            "120000/120000 [==============================] - 5s 40us/step - loss: 0.0041 - acc: 0.9986 - val_loss: 0.0999 - val_acc: 0.9789\n",
            "Epoch 22/50\n",
            "120000/120000 [==============================] - 5s 40us/step - loss: 0.0033 - acc: 0.9990 - val_loss: 0.1041 - val_acc: 0.9783\n",
            "Epoch 23/50\n",
            "120000/120000 [==============================] - 5s 41us/step - loss: 0.0034 - acc: 0.9988 - val_loss: 0.1047 - val_acc: 0.9786\n",
            "Epoch 24/50\n",
            "120000/120000 [==============================] - 5s 40us/step - loss: 0.0035 - acc: 0.9988 - val_loss: 0.1067 - val_acc: 0.9780\n",
            "Epoch 25/50\n",
            "120000/120000 [==============================] - 5s 40us/step - loss: 0.0028 - acc: 0.9992 - val_loss: 0.1051 - val_acc: 0.9788\n",
            "Epoch 26/50\n",
            "120000/120000 [==============================] - 5s 41us/step - loss: 0.0035 - acc: 0.9988 - val_loss: 0.1086 - val_acc: 0.9793\n",
            "Epoch 27/50\n",
            "120000/120000 [==============================] - 5s 40us/step - loss: 0.0030 - acc: 0.9990 - val_loss: 0.1090 - val_acc: 0.9790\n",
            "Epoch 28/50\n",
            "120000/120000 [==============================] - 5s 41us/step - loss: 0.0024 - acc: 0.9993 - val_loss: 0.1042 - val_acc: 0.9804\n",
            "Epoch 29/50\n",
            "120000/120000 [==============================] - 5s 41us/step - loss: 0.0024 - acc: 0.9992 - val_loss: 0.0900 - val_acc: 0.9814\n",
            "Epoch 30/50\n",
            "120000/120000 [==============================] - 5s 41us/step - loss: 0.0020 - acc: 0.9994 - val_loss: 0.1091 - val_acc: 0.9805\n",
            "Epoch 31/50\n",
            "120000/120000 [==============================] - 5s 40us/step - loss: 0.0024 - acc: 0.9993 - val_loss: 0.1031 - val_acc: 0.9801\n",
            "Epoch 32/50\n",
            "120000/120000 [==============================] - 5s 41us/step - loss: 0.0042 - acc: 0.9985 - val_loss: 0.1161 - val_acc: 0.9790\n",
            "Epoch 33/50\n",
            "120000/120000 [==============================] - 5s 40us/step - loss: 0.0016 - acc: 0.9995 - val_loss: 0.1008 - val_acc: 0.9807\n",
            "Epoch 34/50\n",
            "120000/120000 [==============================] - 5s 41us/step - loss: 0.0020 - acc: 0.9994 - val_loss: 0.0970 - val_acc: 0.9817\n",
            "Epoch 35/50\n",
            "120000/120000 [==============================] - 5s 40us/step - loss: 0.0026 - acc: 0.9992 - val_loss: 0.0966 - val_acc: 0.9812\n",
            "Epoch 36/50\n",
            "120000/120000 [==============================] - 5s 40us/step - loss: 0.0029 - acc: 0.9991 - val_loss: 0.1112 - val_acc: 0.9794\n",
            "Epoch 37/50\n",
            "120000/120000 [==============================] - 5s 40us/step - loss: 0.0025 - acc: 0.9991 - val_loss: 0.0970 - val_acc: 0.9808\n",
            "Epoch 38/50\n",
            "120000/120000 [==============================] - 5s 41us/step - loss: 0.0017 - acc: 0.9994 - val_loss: 0.0966 - val_acc: 0.9827\n",
            "Epoch 39/50\n",
            "120000/120000 [==============================] - 5s 40us/step - loss: 0.0024 - acc: 0.9993 - val_loss: 0.1029 - val_acc: 0.9805\n",
            "Epoch 40/50\n",
            "120000/120000 [==============================] - 5s 40us/step - loss: 0.0016 - acc: 0.9996 - val_loss: 0.1010 - val_acc: 0.9809\n",
            "Epoch 41/50\n",
            "120000/120000 [==============================] - 5s 40us/step - loss: 0.0021 - acc: 0.9993 - val_loss: 0.1007 - val_acc: 0.9799\n",
            "Epoch 42/50\n",
            "120000/120000 [==============================] - 5s 40us/step - loss: 0.0025 - acc: 0.9992 - val_loss: 0.1052 - val_acc: 0.9796\n",
            "Epoch 43/50\n",
            "120000/120000 [==============================] - 5s 41us/step - loss: 0.0017 - acc: 0.9995 - val_loss: 0.1028 - val_acc: 0.9808\n",
            "Epoch 44/50\n",
            "120000/120000 [==============================] - 5s 40us/step - loss: 0.0020 - acc: 0.9994 - val_loss: 0.1085 - val_acc: 0.9795\n",
            "Epoch 45/50\n",
            "120000/120000 [==============================] - 5s 41us/step - loss: 0.0023 - acc: 0.9993 - val_loss: 0.1066 - val_acc: 0.9816\n",
            "Epoch 46/50\n",
            "120000/120000 [==============================] - 5s 40us/step - loss: 0.0025 - acc: 0.9991 - val_loss: 0.1026 - val_acc: 0.9811\n",
            "Epoch 47/50\n",
            "120000/120000 [==============================] - 5s 41us/step - loss: 0.0018 - acc: 0.9994 - val_loss: 0.0975 - val_acc: 0.9813\n",
            "Epoch 48/50\n",
            "120000/120000 [==============================] - 5s 41us/step - loss: 0.0014 - acc: 0.9996 - val_loss: 0.0977 - val_acc: 0.9820\n",
            "Epoch 49/50\n",
            "120000/120000 [==============================] - 5s 41us/step - loss: 0.0022 - acc: 0.9992 - val_loss: 0.1075 - val_acc: 0.9815\n",
            "Epoch 50/50\n",
            "120000/120000 [==============================] - 5s 40us/step - loss: 0.0012 - acc: 0.9996 - val_loss: 0.1080 - val_acc: 0.9803\n",
            "60000/60000 [==============================] - 4s 74us/step\n",
            "('Accuracy of PGD adversarial classifier : ', 99.89)\n"
          ],
          "name": "stdout"
        }
      ]
    },
    {
      "cell_type": "code",
      "metadata": {
        "id": "i6dMEXGBUlci",
        "colab_type": "code",
        "outputId": "65f528a9-2b18-4d29-abc5-18e1dc6d6224",
        "colab": {
          "base_uri": "https://localhost:8080/",
          "height": 51
        }
      },
      "source": [
        "#Using the defense to evaluate the accuracy of the perturbed data\n",
        "pgd_score_on_perturbed_data = pgd_classifier.evaluate(pgd_adv_data_test, labels_test)\n",
        "print(\"Accuracy of PGD adversarial classifier on perturbed test data : %2f%%\" %(pgd_score_on_perturbed_data[1]*100))"
      ],
      "execution_count": 0,
      "outputs": [
        {
          "output_type": "stream",
          "text": [
            "10000/10000 [==============================] - 1s 70us/step\n",
            "Accuracy of PGD adversarial classifier on perturbed test data : 97.800000%\n"
          ],
          "name": "stdout"
        }
      ]
    },
    {
      "cell_type": "markdown",
      "metadata": {
        "id": "MqIEiMdar_5q",
        "colab_type": "text"
      },
      "source": [
        "#Part 4: Carlini and Wagner Attack"
      ]
    },
    {
      "cell_type": "code",
      "metadata": {
        "id": "oyyNb-v5sCY6",
        "colab_type": "code",
        "outputId": "2a9c8820-443c-4e02-ee19-a883c26c5608",
        "colab": {
          "base_uri": "https://localhost:8080/",
          "height": 326
        }
      },
      "source": [
        "#Implementing the CW attack\n",
        "\n",
        "#CW Instance on trained classifier from Part 1\n",
        "cw = CarliniWagnerL2(wrap, sess=sess)\n",
        "\n",
        "\n",
        "#Attack parameters\n",
        "cw_params = {\"binary_search_steps\":1, \"y\":None, \"learning_rate\": 1.25, \"batch_size\": 16, \"initial_const\": 10, \"clip_min\": 0.00, \"clip_max\": 1.0}\n",
        "\n",
        "\n",
        "#Generate adversarial data\n",
        "cw_adv_data_test = cw.generate_np(data_test, **cw_params)\n",
        "\n",
        "\n",
        "#Evaluate accuracy of perturbed data on target classifier\n",
        "cw_adv_score = model_classifier.evaluate(cw_adv_data_test, labels_test)\n",
        "\n",
        "print(\"Accuracy of Carlini and Wagner adversarial attack : \", cw_adv_score[1]*100)"
      ],
      "execution_count": 0,
      "outputs": [
        {
          "output_type": "stream",
          "text": [
            "W1112 16:48:12.061264 140197967017856 module_wrapper.py:139] From /usr/local/lib/python2.7/dist-packages/cleverhans/attacks_tf.py:725: The name tf.train.AdamOptimizer is deprecated. Please use tf.compat.v1.train.AdamOptimizer instead.\n",
            "\n",
            "W1112 16:48:12.384870 140197967017856 deprecation.py:323] From /usr/local/lib/python2.7/dist-packages/cleverhans/attacks.py:909: py_func (from tensorflow.python.ops.script_ops) is deprecated and will be removed in a future version.\n",
            "Instructions for updating:\n",
            "tf.py_func is deprecated in TF V2. Instead, there are two\n",
            "    options available in V2.\n",
            "    - tf.py_function takes a python function which manipulates tf eager\n",
            "    tensors instead of numpy arrays. It's easy to convert a tf eager tensor to\n",
            "    an ndarray (just call tensor.numpy()) but having access to eager tensors\n",
            "    means `tf.py_function`s can use accelerators such as GPUs as well as\n",
            "    being differentiable using a gradient tape.\n",
            "    - tf.numpy_function maintains the semantics of the deprecated tf.py_func\n",
            "    (it is not differentiable, and manipulates numpy arrays). It drops the\n",
            "    stateful argument making all functions stateful.\n",
            "    \n"
          ],
          "name": "stderr"
        },
        {
          "output_type": "stream",
          "text": [
            "10000/10000 [==============================] - 2s 205us/step\n",
            "('Accuracy of Carlini and Wagner adversarial attack : ', 1.4500000000000002)\n"
          ],
          "name": "stdout"
        }
      ]
    },
    {
      "cell_type": "code",
      "metadata": {
        "id": "rlEMqrlPurRL",
        "colab_type": "code",
        "outputId": "0d9a1778-4b9c-41c8-dccd-ac7e54342249",
        "colab": {
          "base_uri": "https://localhost:8080/",
          "height": 194
        }
      },
      "source": [
        "#Show ten original samples and their corresponding adversarial samples\n",
        "num_images = 10\n",
        "np.random.seed(42)\n",
        "random_original_samples = np.random.randint(data_test.shape[0], size=num_images)\n",
        "random_adversarial_samples = np.random.randint(cw_adv_data_test.shape[0], size=num_images)\n",
        "plt.figure(figsize=(24, 6))\n",
        "\n",
        "for i, image_idx in enumerate(random_original_samples):\n",
        "    # plot original image\n",
        "    ax = plt.subplot(4, num_images, i + 1)\n",
        "    plt.imshow(data_test[image_idx].reshape(28,28))\n",
        "    plt.gray()\n",
        "    ax.get_xaxis().set_visible(False)\n",
        "    ax.get_yaxis().set_visible(False)\n",
        "\n",
        "    # plot adversarial image\n",
        "    ax = plt.subplot(4, num_images, num_images + i + 1)\n",
        "    plt.imshow(cw_adv_data_test[image_idx].reshape(28,28))\n",
        "    plt.gray()\n",
        "    ax.get_xaxis().set_visible(False)\n",
        "    ax.get_yaxis().set_visible(False)\n",
        "    \n",
        "plt.show()"
      ],
      "execution_count": 0,
      "outputs": [
        {
          "output_type": "display_data",
          "data": {
            "image/png": "[encoded data removed]",
            "text/plain": [
              "<Figure size 1728x432 with 20 Axes>"
            ]
          },
          "metadata": {
            "tags": []
          }
        }
      ]
    },
    {
      "cell_type": "code",
      "metadata": {
        "id": "P-VhQHQ2uvmV",
        "colab_type": "code",
        "outputId": "051e5ab2-7bf2-4af9-ba56-a33d582e8345",
        "colab": {
          "base_uri": "https://localhost:8080/",
          "height": 1000
        }
      },
      "source": [
        "#Implementing the dimensionality reduction (PCA) defense \n",
        "\n",
        "#Calculate PCA projection\n",
        "pca = PCA(100)\n",
        "pca.fit(data_train)\n",
        "pca_train = pca.transform(data_train)\n",
        "pca_test = pca.transform(data_test)\n",
        "\n",
        "#Transform perturbed CW data using the subspace from the original training data\n",
        "#FILL THIS IN \n",
        "\n",
        "# create model for PCA\n",
        "def pca_model():\n",
        "    model = Sequential()\n",
        "    model.add(Dense(100, input_dim = 100, activation='relu'))\n",
        "    model.add(BatchNormalization())\n",
        "    model.add(Dense(100, activation='relu'))\n",
        "    model.add(BatchNormalization())\n",
        "    model.add(Dense(10, activation = 'softmax'))\n",
        "    return model\n",
        "\n",
        "#Create model graph, compile it, and train it using pca_train lables_train \n",
        "pca_model = pca_model()\n",
        "pca_model.compile(loss=\"categorical_crossentropy\", optimizer=\"adam\", metrics=[\"accuracy\"])\n",
        "pca_model_history = pca_model.fit(pca_train, labels_train, validation_data=(pca_test, labels_test), epochs=50, batch_size=256, shuffle=True)\n",
        "pca_model.summary()\n",
        "pca_model_score = pca_model.evaluate(pca_test, labels_test)"
      ],
      "execution_count": 0,
      "outputs": [
        {
          "output_type": "stream",
          "text": [
            "Train on 60000 samples, validate on 10000 samples\n",
            "Epoch 1/50\n",
            "60000/60000 [==============================] - 5s 83us/step - loss: 0.4475 - acc: 0.8670 - val_loss: 0.1813 - val_acc: 0.9476\n",
            "Epoch 2/50\n",
            "60000/60000 [==============================] - 2s 37us/step - loss: 0.1526 - acc: 0.9565 - val_loss: 0.1251 - val_acc: 0.9620\n",
            "Epoch 3/50\n",
            "60000/60000 [==============================] - 2s 38us/step - loss: 0.1024 - acc: 0.9704 - val_loss: 0.1003 - val_acc: 0.9679\n",
            "Epoch 4/50\n",
            "60000/60000 [==============================] - 2s 38us/step - loss: 0.0757 - acc: 0.9782 - val_loss: 0.0864 - val_acc: 0.9726\n",
            "Epoch 5/50\n",
            "60000/60000 [==============================] - 2s 39us/step - loss: 0.0588 - acc: 0.9830 - val_loss: 0.0801 - val_acc: 0.9751\n",
            "Epoch 6/50\n",
            "60000/60000 [==============================] - 2s 38us/step - loss: 0.0458 - acc: 0.9868 - val_loss: 0.0770 - val_acc: 0.9773\n",
            "Epoch 7/50\n",
            "60000/60000 [==============================] - 2s 37us/step - loss: 0.0376 - acc: 0.9890 - val_loss: 0.0771 - val_acc: 0.9757\n",
            "Epoch 8/50\n",
            "60000/60000 [==============================] - 2s 38us/step - loss: 0.0305 - acc: 0.9915 - val_loss: 0.0759 - val_acc: 0.9763\n",
            "Epoch 9/50\n",
            "60000/60000 [==============================] - 2s 37us/step - loss: 0.0238 - acc: 0.9939 - val_loss: 0.0757 - val_acc: 0.9768\n",
            "Epoch 10/50\n",
            "60000/60000 [==============================] - 2s 37us/step - loss: 0.0202 - acc: 0.9948 - val_loss: 0.0761 - val_acc: 0.9773\n",
            "Epoch 11/50\n",
            "60000/60000 [==============================] - 2s 38us/step - loss: 0.0172 - acc: 0.9956 - val_loss: 0.0804 - val_acc: 0.9765\n",
            "Epoch 12/50\n",
            "60000/60000 [==============================] - 2s 38us/step - loss: 0.0141 - acc: 0.9965 - val_loss: 0.0779 - val_acc: 0.9766\n",
            "Epoch 13/50\n",
            "60000/60000 [==============================] - 2s 39us/step - loss: 0.0125 - acc: 0.9970 - val_loss: 0.0871 - val_acc: 0.9759\n",
            "Epoch 14/50\n",
            "60000/60000 [==============================] - 2s 38us/step - loss: 0.0105 - acc: 0.9976 - val_loss: 0.0818 - val_acc: 0.9774\n",
            "Epoch 15/50\n",
            "60000/60000 [==============================] - 2s 38us/step - loss: 0.0086 - acc: 0.9982 - val_loss: 0.0811 - val_acc: 0.9786\n",
            "Epoch 16/50\n",
            "60000/60000 [==============================] - 2s 38us/step - loss: 0.0092 - acc: 0.9977 - val_loss: 0.0910 - val_acc: 0.9766\n",
            "Epoch 17/50\n",
            "60000/60000 [==============================] - 2s 39us/step - loss: 0.0091 - acc: 0.9976 - val_loss: 0.0911 - val_acc: 0.9763\n",
            "Epoch 18/50\n",
            "60000/60000 [==============================] - 2s 37us/step - loss: 0.0076 - acc: 0.9984 - val_loss: 0.0910 - val_acc: 0.9775\n",
            "Epoch 19/50\n",
            "60000/60000 [==============================] - 2s 38us/step - loss: 0.0072 - acc: 0.9984 - val_loss: 0.0892 - val_acc: 0.9791\n",
            "Epoch 20/50\n",
            "60000/60000 [==============================] - 2s 38us/step - loss: 0.0060 - acc: 0.9986 - val_loss: 0.0854 - val_acc: 0.9787\n",
            "Epoch 21/50\n",
            "60000/60000 [==============================] - 2s 37us/step - loss: 0.0060 - acc: 0.9984 - val_loss: 0.0961 - val_acc: 0.9767\n",
            "Epoch 22/50\n",
            "60000/60000 [==============================] - 2s 38us/step - loss: 0.0064 - acc: 0.9983 - val_loss: 0.0958 - val_acc: 0.9787\n",
            "Epoch 23/50\n",
            "60000/60000 [==============================] - 2s 38us/step - loss: 0.0062 - acc: 0.9983 - val_loss: 0.1031 - val_acc: 0.9763\n",
            "Epoch 24/50\n",
            "60000/60000 [==============================] - 2s 37us/step - loss: 0.0056 - acc: 0.9984 - val_loss: 0.1043 - val_acc: 0.9759\n",
            "Epoch 25/50\n",
            "60000/60000 [==============================] - 2s 38us/step - loss: 0.0055 - acc: 0.9984 - val_loss: 0.1071 - val_acc: 0.9764\n",
            "Epoch 26/50\n",
            "60000/60000 [==============================] - 2s 40us/step - loss: 0.0054 - acc: 0.9985 - val_loss: 0.1007 - val_acc: 0.9779\n",
            "Epoch 27/50\n",
            "60000/60000 [==============================] - 2s 39us/step - loss: 0.0039 - acc: 0.9990 - val_loss: 0.1005 - val_acc: 0.9786\n",
            "Epoch 28/50\n",
            "60000/60000 [==============================] - 2s 37us/step - loss: 0.0035 - acc: 0.9991 - val_loss: 0.0981 - val_acc: 0.9787\n",
            "Epoch 29/50\n",
            "60000/60000 [==============================] - 2s 38us/step - loss: 0.0041 - acc: 0.9990 - val_loss: 0.1013 - val_acc: 0.9785\n",
            "Epoch 30/50\n",
            "60000/60000 [==============================] - 2s 38us/step - loss: 0.0035 - acc: 0.9991 - val_loss: 0.0991 - val_acc: 0.9795\n",
            "Epoch 31/50\n",
            "60000/60000 [==============================] - 2s 38us/step - loss: 0.0042 - acc: 0.9987 - val_loss: 0.1006 - val_acc: 0.9788\n",
            "Epoch 32/50\n",
            "60000/60000 [==============================] - 2s 39us/step - loss: 0.0048 - acc: 0.9987 - val_loss: 0.1051 - val_acc: 0.9773\n",
            "Epoch 33/50\n",
            "60000/60000 [==============================] - 2s 38us/step - loss: 0.0044 - acc: 0.9988 - val_loss: 0.1071 - val_acc: 0.9788\n",
            "Epoch 34/50\n",
            "60000/60000 [==============================] - 2s 38us/step - loss: 0.0051 - acc: 0.9983 - val_loss: 0.1148 - val_acc: 0.9774\n",
            "Epoch 35/50\n",
            "60000/60000 [==============================] - 2s 38us/step - loss: 0.0054 - acc: 0.9983 - val_loss: 0.1143 - val_acc: 0.9761\n",
            "Epoch 36/50\n",
            "60000/60000 [==============================] - 2s 38us/step - loss: 0.0048 - acc: 0.9985 - val_loss: 0.1155 - val_acc: 0.9776\n",
            "Epoch 37/50\n",
            "60000/60000 [==============================] - 2s 38us/step - loss: 0.0036 - acc: 0.9989 - val_loss: 0.1103 - val_acc: 0.9783\n",
            "Epoch 38/50\n",
            "60000/60000 [==============================] - 2s 37us/step - loss: 0.0041 - acc: 0.9989 - val_loss: 0.1078 - val_acc: 0.9795\n",
            "Epoch 39/50\n",
            "60000/60000 [==============================] - 2s 38us/step - loss: 0.0020 - acc: 0.9996 - val_loss: 0.1058 - val_acc: 0.9797\n",
            "Epoch 40/50\n",
            "60000/60000 [==============================] - 2s 37us/step - loss: 0.0014 - acc: 0.9997 - val_loss: 0.1046 - val_acc: 0.9794\n",
            "Epoch 41/50\n",
            "60000/60000 [==============================] - 2s 38us/step - loss: 0.0013 - acc: 0.9998 - val_loss: 0.1048 - val_acc: 0.9792\n",
            "Epoch 42/50\n",
            "60000/60000 [==============================] - 2s 38us/step - loss: 0.0015 - acc: 0.9996 - val_loss: 0.1057 - val_acc: 0.9792\n",
            "Epoch 43/50\n",
            "60000/60000 [==============================] - 2s 38us/step - loss: 0.0020 - acc: 0.9994 - val_loss: 0.1106 - val_acc: 0.9784\n",
            "Epoch 44/50\n",
            "60000/60000 [==============================] - 2s 38us/step - loss: 0.0058 - acc: 0.9981 - val_loss: 0.1279 - val_acc: 0.9765\n",
            "Epoch 45/50\n",
            "60000/60000 [==============================] - 2s 38us/step - loss: 0.0073 - acc: 0.9976 - val_loss: 0.1219 - val_acc: 0.9781\n",
            "Epoch 46/50\n",
            "60000/60000 [==============================] - 2s 39us/step - loss: 0.0050 - acc: 0.9983 - val_loss: 0.1159 - val_acc: 0.9783\n",
            "Epoch 47/50\n",
            "60000/60000 [==============================] - 2s 37us/step - loss: 0.0029 - acc: 0.9992 - val_loss: 0.1145 - val_acc: 0.9780\n",
            "Epoch 48/50\n",
            "60000/60000 [==============================] - 2s 38us/step - loss: 0.0026 - acc: 0.9992 - val_loss: 0.1162 - val_acc: 0.9762\n",
            "Epoch 49/50\n",
            "60000/60000 [==============================] - 2s 39us/step - loss: 0.0030 - acc: 0.9991 - val_loss: 0.1216 - val_acc: 0.9763\n",
            "Epoch 50/50\n",
            "60000/60000 [==============================] - 2s 38us/step - loss: 0.0030 - acc: 0.9990 - val_loss: 0.1135 - val_acc: 0.9794\n",
            "_________________________________________________________________\n",
            "Layer (type)                 Output Shape              Param #   \n",
            "=================================================================\n",
            "dense_19 (Dense)             (None, 100)               10100     \n",
            "_________________________________________________________________\n",
            "batch_normalization_9 (Batch (None, 100)               400       \n",
            "_________________________________________________________________\n",
            "dense_20 (Dense)             (None, 100)               10100     \n",
            "_________________________________________________________________\n",
            "batch_normalization_10 (Batc (None, 100)               400       \n",
            "_________________________________________________________________\n",
            "dense_21 (Dense)             (None, 10)                1010      \n",
            "=================================================================\n",
            "Total params: 22,010\n",
            "Trainable params: 21,610\n",
            "Non-trainable params: 400\n",
            "_________________________________________________________________\n",
            "10000/10000 [==============================] - 1s 75us/step\n"
          ],
          "name": "stdout"
        }
      ]
    },
    {
      "cell_type": "code",
      "metadata": {
        "id": "o9L61AfG2y94",
        "colab_type": "code",
        "outputId": "e733b403-3e0d-447a-85eb-09ef81b0d4a4",
        "colab": {
          "base_uri": "https://localhost:8080/",
          "height": 51
        }
      },
      "source": [
        "#Using the defense (and comparing to baseline accuracy)\n",
        "cw_adv_data_test = pca.transform(cw_adv_data_test)\n",
        "cw_defense_score = pca_model.evaluate(cw_adv_data_test, labels_test)\n",
        "print(\"Accuracy of defense through PCA : %2f%%\" %(cw_defense_score[1]*100))"
      ],
      "execution_count": 0,
      "outputs": [
        {
          "output_type": "stream",
          "text": [
            "10000/10000 [==============================] - 1s 78us/step\n",
            "Accuracy of defense through PCA : 82.670000%\n"
          ],
          "name": "stdout"
        }
      ]
    },
    {
      "cell_type": "markdown",
      "metadata": {
        "id": "KP0mENqGhDt0",
        "colab_type": "text"
      },
      "source": [
        "#Part 5: DeepFool "
      ]
    },
    {
      "cell_type": "code",
      "metadata": {
        "id": "zHraovc2hES3",
        "colab_type": "code",
        "outputId": "67833c9d-0c36-4855-bc45-08a024a8c89f",
        "colab": {
          "base_uri": "https://localhost:8080/",
          "height": 326
        }
      },
      "source": [
        "#Implementing the DeepFool attack\n",
        "\n",
        "#DeepFool Instance on trained classifier from Part 1\n",
        "deep_fool = DeepFool(wrap, sess=sess)\n",
        "\n",
        "#Attack parameters\n",
        "deep_fool_params = {\"nb_candidate\": 10, \"max_iter\": 50, \"clip_min\": 0.0, \"clip_max\": 1.0}\n",
        "\n",
        "\n",
        "#Generate adversarial data\n",
        "deep_fool_adv_data_test = deep_fool.generate_np(data_test, **deep_fool_params)\n",
        "\n",
        "\n",
        "#Evaluate accuracy of perturbed data on target classifier\n",
        "deep_fool_adv_score = model_classifier.evaluate(deep_fool_adv_data_test, labels_test)\n",
        "print(\"Accuracy of DeepFool Adversarial attack : %2f%%\" %(deep_fool_adv_score[1]*100))"
      ],
      "execution_count": 0,
      "outputs": [
        {
          "output_type": "stream",
          "text": [
            "W1112 19:27:14.166251 140230100232064 module_wrapper.py:139] From /usr/local/lib/python2.7/dist-packages/cleverhans/utils_tf.py:368: The name tf.GraphKeys is deprecated. Please use tf.compat.v1.GraphKeys instead.\n",
            "\n",
            "W1112 19:27:15.962651 140230100232064 deprecation.py:323] From /usr/local/lib/python2.7/dist-packages/cleverhans/attacks.py:1119: py_func (from tensorflow.python.ops.script_ops) is deprecated and will be removed in a future version.\n",
            "Instructions for updating:\n",
            "tf.py_func is deprecated in TF V2. Instead, there are two\n",
            "    options available in V2.\n",
            "    - tf.py_function takes a python function which manipulates tf eager\n",
            "    tensors instead of numpy arrays. It's easy to convert a tf eager tensor to\n",
            "    an ndarray (just call tensor.numpy()) but having access to eager tensors\n",
            "    means `tf.py_function`s can use accelerators such as GPUs as well as\n",
            "    being differentiable using a gradient tape.\n",
            "    - tf.numpy_function maintains the semantics of the deprecated tf.py_func\n",
            "    (it is not differentiable, and manipulates numpy arrays). It drops the\n",
            "    stateful argument making all functions stateful.\n",
            "    \n"
          ],
          "name": "stderr"
        },
        {
          "output_type": "stream",
          "text": [
            "10000/10000 [==============================] - 1s 72us/step\n",
            "Accuracy of DeepFool Adversarial attack : 1.470000%\n"
          ],
          "name": "stdout"
        }
      ]
    },
    {
      "cell_type": "code",
      "metadata": {
        "id": "zEsLfmxThZ6M",
        "colab_type": "code",
        "outputId": "23021363-0250-4b92-ed42-7f2a1372cf6c",
        "colab": {
          "base_uri": "https://localhost:8080/",
          "height": 214
        }
      },
      "source": [
        "#Show ten original samples and their corresponding adversarial samples\n",
        "num_images = 10\n",
        "np.random.seed(42)\n",
        "random_original_samples = np.random.randint(data_test.shape[0], size=num_images)\n",
        "random_adversarial_samples = np.random.randint(deep_fool_adv_data_test.shape[0], size=num_images)\n",
        "plt.figure(figsize=(24, 6))\n",
        "\n",
        "for i, image_idx in enumerate(random_original_samples):\n",
        "    # plot original image\n",
        "    ax = plt.subplot(4, num_images, i + 1)\n",
        "    plt.imshow(data_test[image_idx].reshape(28,28))\n",
        "    plt.gray()\n",
        "    ax.get_xaxis().set_visible(False)\n",
        "    ax.get_yaxis().set_visible(False)\n",
        "\n",
        "    # plot adversarial image\n",
        "    ax = plt.subplot(4, num_images, num_images + i + 1)\n",
        "    plt.imshow(deep_fool_adv_data_test[image_idx].reshape(28,28))\n",
        "    plt.gray()\n",
        "    ax.get_xaxis().set_visible(False)\n",
        "    ax.get_yaxis().set_visible(False)\n",
        "    \n",
        "plt.show()"
      ],
      "execution_count": 0,
      "outputs": [
        {
          "output_type": "display_data",
          "data": {
            "image/png": "[encoded data removed]",
            "text/plain": [
              "<Figure size 1728x432 with 20 Axes>"
            ]
          },
          "metadata": {
            "tags": []
          }
        }
      ]
    },
    {
      "cell_type": "code",
      "metadata": {
        "id": "tOapt7QaM4U_",
        "colab_type": "code",
        "outputId": "d5b35269-2919-4c34-a274-9f6e567bf622",
        "colab": {
          "base_uri": "https://localhost:8080/",
          "height": 1000
        }
      },
      "source": [
        "#Implementing the Denoising Autoencoder Defense\n",
        "\n",
        "def autoencoder():\n",
        "    ae = Sequential()\n",
        "    ae.add(Dense(400, activation=None, kernel_initializer=\"normal\", input_dim=784))\n",
        "    ae.add(Dense(200, activation=None, kernel_initializer='normal'))\n",
        "    ae.add(Dense(100, activation=None, kernel_initializer='normal'))\n",
        "    ae.add(Dense(200, activation=None, kernel_initializer='normal'))\n",
        "    ae.add(Dense(400, activation=None, kernel_initializer='normal'))\n",
        "    ae.add(Dense(784, activation='sigmoid', kernel_initializer='normal'))\n",
        "    return ae\n",
        "\n",
        "#Create training data for DAE \n",
        "df_attack_data_train = deep_fool.generate_np(data_train, **deep_fool_params)\n",
        "data_total_train = np.concatenate([df_attack_data_train, data_train])\n",
        "\n",
        "#Create and train DAE graph\n",
        "autoencoder = autoencoder()\n",
        "autoencoder.compile(loss=\"mean_squared_error\", optimizer=\"adam\", metrics=[\"accuracy\"])\n",
        "autoencoder_history = autoencoder.fit(data_total_train, data_total_train, validation_data = (data_test, data_test), epochs=50, batch_size=256, shuffle=True)"
      ],
      "execution_count": 0,
      "outputs": [
        {
          "output_type": "stream",
          "text": [
            "W1112 19:30:47.697460 140230100232064 module_wrapper.py:139] From /usr/local/lib/python2.7/dist-packages/keras/backend/tensorflow_backend.py:4115: The name tf.random_normal is deprecated. Please use tf.random.normal instead.\n",
            "\n"
          ],
          "name": "stderr"
        },
        {
          "output_type": "stream",
          "text": [
            "Train on 120000 samples, validate on 10000 samples\n",
            "Epoch 1/50\n",
            "120000/120000 [==============================] - 3s 26us/step - loss: 0.0247 - acc: 0.0101 - val_loss: 0.0092 - val_acc: 0.0137\n",
            "Epoch 2/50\n",
            "120000/120000 [==============================] - 2s 21us/step - loss: 0.0077 - acc: 0.0127 - val_loss: 0.0058 - val_acc: 0.0112\n",
            "Epoch 3/50\n",
            "120000/120000 [==============================] - 2s 20us/step - loss: 0.0055 - acc: 0.0137 - val_loss: 0.0045 - val_acc: 0.0139\n",
            "Epoch 4/50\n",
            "120000/120000 [==============================] - 2s 20us/step - loss: 0.0045 - acc: 0.0150 - val_loss: 0.0038 - val_acc: 0.0127\n",
            "Epoch 5/50\n",
            "120000/120000 [==============================] - 2s 21us/step - loss: 0.0038 - acc: 0.0157 - val_loss: 0.0033 - val_acc: 0.0138\n",
            "Epoch 6/50\n",
            "120000/120000 [==============================] - 3s 21us/step - loss: 0.0034 - acc: 0.0158 - val_loss: 0.0030 - val_acc: 0.0141\n",
            "Epoch 7/50\n",
            "120000/120000 [==============================] - 2s 20us/step - loss: 0.0031 - acc: 0.0162 - val_loss: 0.0027 - val_acc: 0.0140\n",
            "Epoch 8/50\n",
            "120000/120000 [==============================] - 2s 20us/step - loss: 0.0029 - acc: 0.0169 - val_loss: 0.0025 - val_acc: 0.0139\n",
            "Epoch 9/50\n",
            "120000/120000 [==============================] - 2s 20us/step - loss: 0.0027 - acc: 0.0176 - val_loss: 0.0024 - val_acc: 0.0130\n",
            "Epoch 10/50\n",
            "120000/120000 [==============================] - 2s 21us/step - loss: 0.0026 - acc: 0.0173 - val_loss: 0.0023 - val_acc: 0.0138\n",
            "Epoch 11/50\n",
            "120000/120000 [==============================] - 2s 20us/step - loss: 0.0025 - acc: 0.0181 - val_loss: 0.0022 - val_acc: 0.0155\n",
            "Epoch 12/50\n",
            "120000/120000 [==============================] - 2s 20us/step - loss: 0.0024 - acc: 0.0180 - val_loss: 0.0021 - val_acc: 0.0151\n",
            "Epoch 13/50\n",
            "120000/120000 [==============================] - 2s 20us/step - loss: 0.0023 - acc: 0.0178 - val_loss: 0.0021 - val_acc: 0.0148\n",
            "Epoch 14/50\n",
            "120000/120000 [==============================] - 2s 20us/step - loss: 0.0023 - acc: 0.0178 - val_loss: 0.0021 - val_acc: 0.0140\n",
            "Epoch 15/50\n",
            "120000/120000 [==============================] - 2s 20us/step - loss: 0.0022 - acc: 0.0184 - val_loss: 0.0020 - val_acc: 0.0140\n",
            "Epoch 16/50\n",
            "120000/120000 [==============================] - 2s 20us/step - loss: 0.0022 - acc: 0.0183 - val_loss: 0.0020 - val_acc: 0.0141\n",
            "Epoch 17/50\n",
            "120000/120000 [==============================] - 2s 20us/step - loss: 0.0022 - acc: 0.0189 - val_loss: 0.0020 - val_acc: 0.0133\n",
            "Epoch 18/50\n",
            "120000/120000 [==============================] - 2s 20us/step - loss: 0.0022 - acc: 0.0183 - val_loss: 0.0020 - val_acc: 0.0139\n",
            "Epoch 19/50\n",
            "120000/120000 [==============================] - 2s 20us/step - loss: 0.0022 - acc: 0.0183 - val_loss: 0.0020 - val_acc: 0.0142\n",
            "Epoch 20/50\n",
            "120000/120000 [==============================] - 2s 20us/step - loss: 0.0022 - acc: 0.0181 - val_loss: 0.0020 - val_acc: 0.0133\n",
            "Epoch 21/50\n",
            "120000/120000 [==============================] - 2s 20us/step - loss: 0.0022 - acc: 0.0183 - val_loss: 0.0020 - val_acc: 0.0149\n",
            "Epoch 22/50\n",
            "120000/120000 [==============================] - 2s 20us/step - loss: 0.0022 - acc: 0.0181 - val_loss: 0.0020 - val_acc: 0.0147\n",
            "Epoch 23/50\n",
            "120000/120000 [==============================] - 2s 20us/step - loss: 0.0022 - acc: 0.0181 - val_loss: 0.0020 - val_acc: 0.0150\n",
            "Epoch 24/50\n",
            "120000/120000 [==============================] - 2s 20us/step - loss: 0.0022 - acc: 0.0182 - val_loss: 0.0020 - val_acc: 0.0131\n",
            "Epoch 25/50\n",
            "120000/120000 [==============================] - 2s 20us/step - loss: 0.0021 - acc: 0.0182 - val_loss: 0.0020 - val_acc: 0.0145\n",
            "Epoch 26/50\n",
            "120000/120000 [==============================] - 2s 20us/step - loss: 0.0021 - acc: 0.0176 - val_loss: 0.0019 - val_acc: 0.0148\n",
            "Epoch 27/50\n",
            "120000/120000 [==============================] - 2s 20us/step - loss: 0.0021 - acc: 0.0184 - val_loss: 0.0019 - val_acc: 0.0138\n",
            "Epoch 28/50\n",
            "120000/120000 [==============================] - 2s 20us/step - loss: 0.0021 - acc: 0.0177 - val_loss: 0.0019 - val_acc: 0.0155\n",
            "Epoch 29/50\n",
            "120000/120000 [==============================] - 2s 20us/step - loss: 0.0021 - acc: 0.0180 - val_loss: 0.0019 - val_acc: 0.0137\n",
            "Epoch 30/50\n",
            "120000/120000 [==============================] - 2s 20us/step - loss: 0.0021 - acc: 0.0183 - val_loss: 0.0019 - val_acc: 0.0141\n",
            "Epoch 31/50\n",
            "120000/120000 [==============================] - 2s 20us/step - loss: 0.0021 - acc: 0.0181 - val_loss: 0.0019 - val_acc: 0.0142\n",
            "Epoch 32/50\n",
            "120000/120000 [==============================] - 2s 20us/step - loss: 0.0021 - acc: 0.0180 - val_loss: 0.0019 - val_acc: 0.0132\n",
            "Epoch 33/50\n",
            "120000/120000 [==============================] - 2s 20us/step - loss: 0.0021 - acc: 0.0181 - val_loss: 0.0019 - val_acc: 0.0143\n",
            "Epoch 34/50\n",
            "120000/120000 [==============================] - 2s 20us/step - loss: 0.0021 - acc: 0.0180 - val_loss: 0.0019 - val_acc: 0.0158\n",
            "Epoch 35/50\n",
            "120000/120000 [==============================] - 2s 20us/step - loss: 0.0021 - acc: 0.0183 - val_loss: 0.0019 - val_acc: 0.0140\n",
            "Epoch 36/50\n",
            "120000/120000 [==============================] - 2s 20us/step - loss: 0.0021 - acc: 0.0179 - val_loss: 0.0019 - val_acc: 0.0143\n",
            "Epoch 37/50\n",
            "120000/120000 [==============================] - 2s 20us/step - loss: 0.0021 - acc: 0.0179 - val_loss: 0.0019 - val_acc: 0.0140\n",
            "Epoch 38/50\n",
            "120000/120000 [==============================] - 2s 20us/step - loss: 0.0021 - acc: 0.0184 - val_loss: 0.0019 - val_acc: 0.0139\n",
            "Epoch 39/50\n",
            "120000/120000 [==============================] - 2s 20us/step - loss: 0.0021 - acc: 0.0179 - val_loss: 0.0019 - val_acc: 0.0132\n",
            "Epoch 40/50\n",
            "120000/120000 [==============================] - 2s 20us/step - loss: 0.0021 - acc: 0.0178 - val_loss: 0.0019 - val_acc: 0.0149\n",
            "Epoch 41/50\n",
            "120000/120000 [==============================] - 2s 20us/step - loss: 0.0021 - acc: 0.0183 - val_loss: 0.0019 - val_acc: 0.0152\n",
            "Epoch 42/50\n",
            "120000/120000 [==============================] - 2s 20us/step - loss: 0.0021 - acc: 0.0177 - val_loss: 0.0019 - val_acc: 0.0141\n",
            "Epoch 43/50\n",
            "120000/120000 [==============================] - 2s 20us/step - loss: 0.0021 - acc: 0.0177 - val_loss: 0.0019 - val_acc: 0.0158\n",
            "Epoch 44/50\n",
            "120000/120000 [==============================] - 2s 20us/step - loss: 0.0021 - acc: 0.0179 - val_loss: 0.0019 - val_acc: 0.0139\n",
            "Epoch 45/50\n",
            "120000/120000 [==============================] - 2s 20us/step - loss: 0.0021 - acc: 0.0181 - val_loss: 0.0019 - val_acc: 0.0135\n",
            "Epoch 46/50\n",
            "120000/120000 [==============================] - 2s 20us/step - loss: 0.0021 - acc: 0.0180 - val_loss: 0.0019 - val_acc: 0.0157\n",
            "Epoch 47/50\n",
            "120000/120000 [==============================] - 2s 20us/step - loss: 0.0021 - acc: 0.0177 - val_loss: 0.0019 - val_acc: 0.0136\n",
            "Epoch 48/50\n",
            "120000/120000 [==============================] - 2s 21us/step - loss: 0.0021 - acc: 0.0181 - val_loss: 0.0019 - val_acc: 0.0139\n",
            "Epoch 49/50\n",
            "120000/120000 [==============================] - 3s 21us/step - loss: 0.0021 - acc: 0.0186 - val_loss: 0.0019 - val_acc: 0.0139\n",
            "Epoch 50/50\n",
            "120000/120000 [==============================] - 3s 21us/step - loss: 0.0021 - acc: 0.0181 - val_loss: 0.0019 - val_acc: 0.0137\n"
          ],
          "name": "stdout"
        }
      ]
    },
    {
      "cell_type": "code",
      "metadata": {
        "id": "5CjKifVRNMMV",
        "colab_type": "code",
        "outputId": "be30a8dc-5404-46d3-a08e-76658bbdce44",
        "colab": {
          "base_uri": "https://localhost:8080/",
          "height": 51
        }
      },
      "source": [
        "#Using the defense\n",
        "\n",
        "#Use DAE to to remove adversarial perturbation \n",
        "deep_fool_reconstructions = ae_model.predict(deep_fool_adv_data_test)\n",
        "deep_fool_score = model_classifier.evaluate(deep_fool_reconstructions, labels_test)\n",
        "\n",
        "#Evaluate accuracy of FGM samples after denoising \n",
        "print(\"Accuracy of DeepFool Defense through DAE : %2f%%\" %(deep_fool_score[1]*100))"
      ],
      "execution_count": 0,
      "outputs": [
        {
          "output_type": "stream",
          "text": [
            "10000/10000 [==============================] - 0s 40us/step\n",
            "Accuracy of DeepFool Defense through DAE : 97.680000%\n"
          ],
          "name": "stdout"
        }
      ]
    },
    {
      "cell_type": "code",
      "metadata": {
        "id": "6NSAW0v3NSMB",
        "colab_type": "code",
        "outputId": "fb730046-c1ad-4c51-985e-5f4431bf4ebe",
        "colab": {
          "base_uri": "https://localhost:8080/",
          "height": 129
        }
      },
      "source": [
        "#Show ten samples of adversarial samples after denoising\n",
        "num_images = 10\n",
        "np.random.seed(42)\n",
        "random_adversarial_samples = np.random.randint(deep_fool_reconstructions.shape[0], size=num_images)\n",
        "plt.figure(figsize=(24, 6))\n",
        "\n",
        "for i, image_idx in enumerate(random_original_samples):\n",
        "    ax = plt.subplot(4, num_images, num_images + i + 1)\n",
        "    plt.imshow(deep_fool_reconstructions[image_idx].reshape(28,28))\n",
        "    plt.gray()\n",
        "    ax.get_xaxis().set_visible(False)\n",
        "    ax.get_yaxis().set_visible(False)\n",
        "    \n",
        "plt.show()"
      ],
      "execution_count": 0,
      "outputs": [
        {
          "output_type": "display_data",
          "data": {
            "image/png": "[encoded data removed]",
            "text/plain": [
              "<Figure size 1728x432 with 10 Axes>"
            ]
          },
          "metadata": {
            "tags": []
          }
        }
      ]
    }
  ]
}